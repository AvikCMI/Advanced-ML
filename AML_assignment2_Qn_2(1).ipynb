{
  "nbformat": 4,
  "nbformat_minor": 0,
  "metadata": {
    "colab": {
      "provenance": []
    },
    "kernelspec": {
      "name": "python3",
      "display_name": "Python 3"
    },
    "language_info": {
      "name": "python"
    },
    "widgets": {
      "application/vnd.jupyter.widget-state+json": {
        "588e7e776799408c84a66c7e55da6d47": {
          "model_module": "@jupyter-widgets/controls",
          "model_name": "HBoxModel",
          "model_module_version": "1.5.0",
          "state": {
            "_dom_classes": [],
            "_model_module": "@jupyter-widgets/controls",
            "_model_module_version": "1.5.0",
            "_model_name": "HBoxModel",
            "_view_count": null,
            "_view_module": "@jupyter-widgets/controls",
            "_view_module_version": "1.5.0",
            "_view_name": "HBoxView",
            "box_style": "",
            "children": [
              "IPY_MODEL_cb4bd890448a402c99ee38bd512dc177",
              "IPY_MODEL_488dbf3cb1044864a9428ab2f5608212",
              "IPY_MODEL_d231173d773d46fbaf666936aadbcff2"
            ],
            "layout": "IPY_MODEL_a0d2cd3a3576434b9d21efd5b21950b8"
          }
        },
        "cb4bd890448a402c99ee38bd512dc177": {
          "model_module": "@jupyter-widgets/controls",
          "model_name": "HTMLModel",
          "model_module_version": "1.5.0",
          "state": {
            "_dom_classes": [],
            "_model_module": "@jupyter-widgets/controls",
            "_model_module_version": "1.5.0",
            "_model_name": "HTMLModel",
            "_view_count": null,
            "_view_module": "@jupyter-widgets/controls",
            "_view_module_version": "1.5.0",
            "_view_name": "HTMLView",
            "description": "",
            "description_tooltip": null,
            "layout": "IPY_MODEL_186cb976e98b4b1ea99ac2f7c9d39145",
            "placeholder": "​",
            "style": "IPY_MODEL_14d0d06562b2462ba605e3c868647fea",
            "value": "100%"
          }
        },
        "488dbf3cb1044864a9428ab2f5608212": {
          "model_module": "@jupyter-widgets/controls",
          "model_name": "FloatProgressModel",
          "model_module_version": "1.5.0",
          "state": {
            "_dom_classes": [],
            "_model_module": "@jupyter-widgets/controls",
            "_model_module_version": "1.5.0",
            "_model_name": "FloatProgressModel",
            "_view_count": null,
            "_view_module": "@jupyter-widgets/controls",
            "_view_module_version": "1.5.0",
            "_view_name": "ProgressView",
            "bar_style": "success",
            "description": "",
            "description_tooltip": null,
            "layout": "IPY_MODEL_74f5721d553f4a189200ef9955b0b2bd",
            "max": 26421880,
            "min": 0,
            "orientation": "horizontal",
            "style": "IPY_MODEL_adb81fe9af8540ae84223fe25df67df2",
            "value": 26421880
          }
        },
        "d231173d773d46fbaf666936aadbcff2": {
          "model_module": "@jupyter-widgets/controls",
          "model_name": "HTMLModel",
          "model_module_version": "1.5.0",
          "state": {
            "_dom_classes": [],
            "_model_module": "@jupyter-widgets/controls",
            "_model_module_version": "1.5.0",
            "_model_name": "HTMLModel",
            "_view_count": null,
            "_view_module": "@jupyter-widgets/controls",
            "_view_module_version": "1.5.0",
            "_view_name": "HTMLView",
            "description": "",
            "description_tooltip": null,
            "layout": "IPY_MODEL_a18a3580281d4159b66e60c9be417063",
            "placeholder": "​",
            "style": "IPY_MODEL_29035fdfe0484265af7499c855128c6d",
            "value": " 26421880/26421880 [00:00&lt;00:00, 37806818.47it/s]"
          }
        },
        "a0d2cd3a3576434b9d21efd5b21950b8": {
          "model_module": "@jupyter-widgets/base",
          "model_name": "LayoutModel",
          "model_module_version": "1.2.0",
          "state": {
            "_model_module": "@jupyter-widgets/base",
            "_model_module_version": "1.2.0",
            "_model_name": "LayoutModel",
            "_view_count": null,
            "_view_module": "@jupyter-widgets/base",
            "_view_module_version": "1.2.0",
            "_view_name": "LayoutView",
            "align_content": null,
            "align_items": null,
            "align_self": null,
            "border": null,
            "bottom": null,
            "display": null,
            "flex": null,
            "flex_flow": null,
            "grid_area": null,
            "grid_auto_columns": null,
            "grid_auto_flow": null,
            "grid_auto_rows": null,
            "grid_column": null,
            "grid_gap": null,
            "grid_row": null,
            "grid_template_areas": null,
            "grid_template_columns": null,
            "grid_template_rows": null,
            "height": null,
            "justify_content": null,
            "justify_items": null,
            "left": null,
            "margin": null,
            "max_height": null,
            "max_width": null,
            "min_height": null,
            "min_width": null,
            "object_fit": null,
            "object_position": null,
            "order": null,
            "overflow": null,
            "overflow_x": null,
            "overflow_y": null,
            "padding": null,
            "right": null,
            "top": null,
            "visibility": null,
            "width": null
          }
        },
        "186cb976e98b4b1ea99ac2f7c9d39145": {
          "model_module": "@jupyter-widgets/base",
          "model_name": "LayoutModel",
          "model_module_version": "1.2.0",
          "state": {
            "_model_module": "@jupyter-widgets/base",
            "_model_module_version": "1.2.0",
            "_model_name": "LayoutModel",
            "_view_count": null,
            "_view_module": "@jupyter-widgets/base",
            "_view_module_version": "1.2.0",
            "_view_name": "LayoutView",
            "align_content": null,
            "align_items": null,
            "align_self": null,
            "border": null,
            "bottom": null,
            "display": null,
            "flex": null,
            "flex_flow": null,
            "grid_area": null,
            "grid_auto_columns": null,
            "grid_auto_flow": null,
            "grid_auto_rows": null,
            "grid_column": null,
            "grid_gap": null,
            "grid_row": null,
            "grid_template_areas": null,
            "grid_template_columns": null,
            "grid_template_rows": null,
            "height": null,
            "justify_content": null,
            "justify_items": null,
            "left": null,
            "margin": null,
            "max_height": null,
            "max_width": null,
            "min_height": null,
            "min_width": null,
            "object_fit": null,
            "object_position": null,
            "order": null,
            "overflow": null,
            "overflow_x": null,
            "overflow_y": null,
            "padding": null,
            "right": null,
            "top": null,
            "visibility": null,
            "width": null
          }
        },
        "14d0d06562b2462ba605e3c868647fea": {
          "model_module": "@jupyter-widgets/controls",
          "model_name": "DescriptionStyleModel",
          "model_module_version": "1.5.0",
          "state": {
            "_model_module": "@jupyter-widgets/controls",
            "_model_module_version": "1.5.0",
            "_model_name": "DescriptionStyleModel",
            "_view_count": null,
            "_view_module": "@jupyter-widgets/base",
            "_view_module_version": "1.2.0",
            "_view_name": "StyleView",
            "description_width": ""
          }
        },
        "74f5721d553f4a189200ef9955b0b2bd": {
          "model_module": "@jupyter-widgets/base",
          "model_name": "LayoutModel",
          "model_module_version": "1.2.0",
          "state": {
            "_model_module": "@jupyter-widgets/base",
            "_model_module_version": "1.2.0",
            "_model_name": "LayoutModel",
            "_view_count": null,
            "_view_module": "@jupyter-widgets/base",
            "_view_module_version": "1.2.0",
            "_view_name": "LayoutView",
            "align_content": null,
            "align_items": null,
            "align_self": null,
            "border": null,
            "bottom": null,
            "display": null,
            "flex": null,
            "flex_flow": null,
            "grid_area": null,
            "grid_auto_columns": null,
            "grid_auto_flow": null,
            "grid_auto_rows": null,
            "grid_column": null,
            "grid_gap": null,
            "grid_row": null,
            "grid_template_areas": null,
            "grid_template_columns": null,
            "grid_template_rows": null,
            "height": null,
            "justify_content": null,
            "justify_items": null,
            "left": null,
            "margin": null,
            "max_height": null,
            "max_width": null,
            "min_height": null,
            "min_width": null,
            "object_fit": null,
            "object_position": null,
            "order": null,
            "overflow": null,
            "overflow_x": null,
            "overflow_y": null,
            "padding": null,
            "right": null,
            "top": null,
            "visibility": null,
            "width": null
          }
        },
        "adb81fe9af8540ae84223fe25df67df2": {
          "model_module": "@jupyter-widgets/controls",
          "model_name": "ProgressStyleModel",
          "model_module_version": "1.5.0",
          "state": {
            "_model_module": "@jupyter-widgets/controls",
            "_model_module_version": "1.5.0",
            "_model_name": "ProgressStyleModel",
            "_view_count": null,
            "_view_module": "@jupyter-widgets/base",
            "_view_module_version": "1.2.0",
            "_view_name": "StyleView",
            "bar_color": null,
            "description_width": ""
          }
        },
        "a18a3580281d4159b66e60c9be417063": {
          "model_module": "@jupyter-widgets/base",
          "model_name": "LayoutModel",
          "model_module_version": "1.2.0",
          "state": {
            "_model_module": "@jupyter-widgets/base",
            "_model_module_version": "1.2.0",
            "_model_name": "LayoutModel",
            "_view_count": null,
            "_view_module": "@jupyter-widgets/base",
            "_view_module_version": "1.2.0",
            "_view_name": "LayoutView",
            "align_content": null,
            "align_items": null,
            "align_self": null,
            "border": null,
            "bottom": null,
            "display": null,
            "flex": null,
            "flex_flow": null,
            "grid_area": null,
            "grid_auto_columns": null,
            "grid_auto_flow": null,
            "grid_auto_rows": null,
            "grid_column": null,
            "grid_gap": null,
            "grid_row": null,
            "grid_template_areas": null,
            "grid_template_columns": null,
            "grid_template_rows": null,
            "height": null,
            "justify_content": null,
            "justify_items": null,
            "left": null,
            "margin": null,
            "max_height": null,
            "max_width": null,
            "min_height": null,
            "min_width": null,
            "object_fit": null,
            "object_position": null,
            "order": null,
            "overflow": null,
            "overflow_x": null,
            "overflow_y": null,
            "padding": null,
            "right": null,
            "top": null,
            "visibility": null,
            "width": null
          }
        },
        "29035fdfe0484265af7499c855128c6d": {
          "model_module": "@jupyter-widgets/controls",
          "model_name": "DescriptionStyleModel",
          "model_module_version": "1.5.0",
          "state": {
            "_model_module": "@jupyter-widgets/controls",
            "_model_module_version": "1.5.0",
            "_model_name": "DescriptionStyleModel",
            "_view_count": null,
            "_view_module": "@jupyter-widgets/base",
            "_view_module_version": "1.2.0",
            "_view_name": "StyleView",
            "description_width": ""
          }
        },
        "d55cc878a72b4fe2a7b3fb67ce91b048": {
          "model_module": "@jupyter-widgets/controls",
          "model_name": "HBoxModel",
          "model_module_version": "1.5.0",
          "state": {
            "_dom_classes": [],
            "_model_module": "@jupyter-widgets/controls",
            "_model_module_version": "1.5.0",
            "_model_name": "HBoxModel",
            "_view_count": null,
            "_view_module": "@jupyter-widgets/controls",
            "_view_module_version": "1.5.0",
            "_view_name": "HBoxView",
            "box_style": "",
            "children": [
              "IPY_MODEL_753f61d704364b67aef0086f8c546970",
              "IPY_MODEL_31c8ff477f9143fa9f3e2e17e54e45f7",
              "IPY_MODEL_3cdf62ac72874d54bfca5749192a75ac"
            ],
            "layout": "IPY_MODEL_1ff1b7501f1d433a80c01eeb24606777"
          }
        },
        "753f61d704364b67aef0086f8c546970": {
          "model_module": "@jupyter-widgets/controls",
          "model_name": "HTMLModel",
          "model_module_version": "1.5.0",
          "state": {
            "_dom_classes": [],
            "_model_module": "@jupyter-widgets/controls",
            "_model_module_version": "1.5.0",
            "_model_name": "HTMLModel",
            "_view_count": null,
            "_view_module": "@jupyter-widgets/controls",
            "_view_module_version": "1.5.0",
            "_view_name": "HTMLView",
            "description": "",
            "description_tooltip": null,
            "layout": "IPY_MODEL_7373ea3dd21a431c9480669465416d53",
            "placeholder": "​",
            "style": "IPY_MODEL_193e1eb1906748a6bea0aa9e65df22c7",
            "value": "100%"
          }
        },
        "31c8ff477f9143fa9f3e2e17e54e45f7": {
          "model_module": "@jupyter-widgets/controls",
          "model_name": "FloatProgressModel",
          "model_module_version": "1.5.0",
          "state": {
            "_dom_classes": [],
            "_model_module": "@jupyter-widgets/controls",
            "_model_module_version": "1.5.0",
            "_model_name": "FloatProgressModel",
            "_view_count": null,
            "_view_module": "@jupyter-widgets/controls",
            "_view_module_version": "1.5.0",
            "_view_name": "ProgressView",
            "bar_style": "success",
            "description": "",
            "description_tooltip": null,
            "layout": "IPY_MODEL_b556a4a64c6b40e2a4b89bb3611202fc",
            "max": 29515,
            "min": 0,
            "orientation": "horizontal",
            "style": "IPY_MODEL_e3cbf99b1cea4a15a126d943d64c91fd",
            "value": 29515
          }
        },
        "3cdf62ac72874d54bfca5749192a75ac": {
          "model_module": "@jupyter-widgets/controls",
          "model_name": "HTMLModel",
          "model_module_version": "1.5.0",
          "state": {
            "_dom_classes": [],
            "_model_module": "@jupyter-widgets/controls",
            "_model_module_version": "1.5.0",
            "_model_name": "HTMLModel",
            "_view_count": null,
            "_view_module": "@jupyter-widgets/controls",
            "_view_module_version": "1.5.0",
            "_view_name": "HTMLView",
            "description": "",
            "description_tooltip": null,
            "layout": "IPY_MODEL_4e77bab72ecd4112b39b94c25f49926e",
            "placeholder": "​",
            "style": "IPY_MODEL_9fa10cc3274a47ecafb086b2f315202e",
            "value": " 29515/29515 [00:00&lt;00:00, 772197.75it/s]"
          }
        },
        "1ff1b7501f1d433a80c01eeb24606777": {
          "model_module": "@jupyter-widgets/base",
          "model_name": "LayoutModel",
          "model_module_version": "1.2.0",
          "state": {
            "_model_module": "@jupyter-widgets/base",
            "_model_module_version": "1.2.0",
            "_model_name": "LayoutModel",
            "_view_count": null,
            "_view_module": "@jupyter-widgets/base",
            "_view_module_version": "1.2.0",
            "_view_name": "LayoutView",
            "align_content": null,
            "align_items": null,
            "align_self": null,
            "border": null,
            "bottom": null,
            "display": null,
            "flex": null,
            "flex_flow": null,
            "grid_area": null,
            "grid_auto_columns": null,
            "grid_auto_flow": null,
            "grid_auto_rows": null,
            "grid_column": null,
            "grid_gap": null,
            "grid_row": null,
            "grid_template_areas": null,
            "grid_template_columns": null,
            "grid_template_rows": null,
            "height": null,
            "justify_content": null,
            "justify_items": null,
            "left": null,
            "margin": null,
            "max_height": null,
            "max_width": null,
            "min_height": null,
            "min_width": null,
            "object_fit": null,
            "object_position": null,
            "order": null,
            "overflow": null,
            "overflow_x": null,
            "overflow_y": null,
            "padding": null,
            "right": null,
            "top": null,
            "visibility": null,
            "width": null
          }
        },
        "7373ea3dd21a431c9480669465416d53": {
          "model_module": "@jupyter-widgets/base",
          "model_name": "LayoutModel",
          "model_module_version": "1.2.0",
          "state": {
            "_model_module": "@jupyter-widgets/base",
            "_model_module_version": "1.2.0",
            "_model_name": "LayoutModel",
            "_view_count": null,
            "_view_module": "@jupyter-widgets/base",
            "_view_module_version": "1.2.0",
            "_view_name": "LayoutView",
            "align_content": null,
            "align_items": null,
            "align_self": null,
            "border": null,
            "bottom": null,
            "display": null,
            "flex": null,
            "flex_flow": null,
            "grid_area": null,
            "grid_auto_columns": null,
            "grid_auto_flow": null,
            "grid_auto_rows": null,
            "grid_column": null,
            "grid_gap": null,
            "grid_row": null,
            "grid_template_areas": null,
            "grid_template_columns": null,
            "grid_template_rows": null,
            "height": null,
            "justify_content": null,
            "justify_items": null,
            "left": null,
            "margin": null,
            "max_height": null,
            "max_width": null,
            "min_height": null,
            "min_width": null,
            "object_fit": null,
            "object_position": null,
            "order": null,
            "overflow": null,
            "overflow_x": null,
            "overflow_y": null,
            "padding": null,
            "right": null,
            "top": null,
            "visibility": null,
            "width": null
          }
        },
        "193e1eb1906748a6bea0aa9e65df22c7": {
          "model_module": "@jupyter-widgets/controls",
          "model_name": "DescriptionStyleModel",
          "model_module_version": "1.5.0",
          "state": {
            "_model_module": "@jupyter-widgets/controls",
            "_model_module_version": "1.5.0",
            "_model_name": "DescriptionStyleModel",
            "_view_count": null,
            "_view_module": "@jupyter-widgets/base",
            "_view_module_version": "1.2.0",
            "_view_name": "StyleView",
            "description_width": ""
          }
        },
        "b556a4a64c6b40e2a4b89bb3611202fc": {
          "model_module": "@jupyter-widgets/base",
          "model_name": "LayoutModel",
          "model_module_version": "1.2.0",
          "state": {
            "_model_module": "@jupyter-widgets/base",
            "_model_module_version": "1.2.0",
            "_model_name": "LayoutModel",
            "_view_count": null,
            "_view_module": "@jupyter-widgets/base",
            "_view_module_version": "1.2.0",
            "_view_name": "LayoutView",
            "align_content": null,
            "align_items": null,
            "align_self": null,
            "border": null,
            "bottom": null,
            "display": null,
            "flex": null,
            "flex_flow": null,
            "grid_area": null,
            "grid_auto_columns": null,
            "grid_auto_flow": null,
            "grid_auto_rows": null,
            "grid_column": null,
            "grid_gap": null,
            "grid_row": null,
            "grid_template_areas": null,
            "grid_template_columns": null,
            "grid_template_rows": null,
            "height": null,
            "justify_content": null,
            "justify_items": null,
            "left": null,
            "margin": null,
            "max_height": null,
            "max_width": null,
            "min_height": null,
            "min_width": null,
            "object_fit": null,
            "object_position": null,
            "order": null,
            "overflow": null,
            "overflow_x": null,
            "overflow_y": null,
            "padding": null,
            "right": null,
            "top": null,
            "visibility": null,
            "width": null
          }
        },
        "e3cbf99b1cea4a15a126d943d64c91fd": {
          "model_module": "@jupyter-widgets/controls",
          "model_name": "ProgressStyleModel",
          "model_module_version": "1.5.0",
          "state": {
            "_model_module": "@jupyter-widgets/controls",
            "_model_module_version": "1.5.0",
            "_model_name": "ProgressStyleModel",
            "_view_count": null,
            "_view_module": "@jupyter-widgets/base",
            "_view_module_version": "1.2.0",
            "_view_name": "StyleView",
            "bar_color": null,
            "description_width": ""
          }
        },
        "4e77bab72ecd4112b39b94c25f49926e": {
          "model_module": "@jupyter-widgets/base",
          "model_name": "LayoutModel",
          "model_module_version": "1.2.0",
          "state": {
            "_model_module": "@jupyter-widgets/base",
            "_model_module_version": "1.2.0",
            "_model_name": "LayoutModel",
            "_view_count": null,
            "_view_module": "@jupyter-widgets/base",
            "_view_module_version": "1.2.0",
            "_view_name": "LayoutView",
            "align_content": null,
            "align_items": null,
            "align_self": null,
            "border": null,
            "bottom": null,
            "display": null,
            "flex": null,
            "flex_flow": null,
            "grid_area": null,
            "grid_auto_columns": null,
            "grid_auto_flow": null,
            "grid_auto_rows": null,
            "grid_column": null,
            "grid_gap": null,
            "grid_row": null,
            "grid_template_areas": null,
            "grid_template_columns": null,
            "grid_template_rows": null,
            "height": null,
            "justify_content": null,
            "justify_items": null,
            "left": null,
            "margin": null,
            "max_height": null,
            "max_width": null,
            "min_height": null,
            "min_width": null,
            "object_fit": null,
            "object_position": null,
            "order": null,
            "overflow": null,
            "overflow_x": null,
            "overflow_y": null,
            "padding": null,
            "right": null,
            "top": null,
            "visibility": null,
            "width": null
          }
        },
        "9fa10cc3274a47ecafb086b2f315202e": {
          "model_module": "@jupyter-widgets/controls",
          "model_name": "DescriptionStyleModel",
          "model_module_version": "1.5.0",
          "state": {
            "_model_module": "@jupyter-widgets/controls",
            "_model_module_version": "1.5.0",
            "_model_name": "DescriptionStyleModel",
            "_view_count": null,
            "_view_module": "@jupyter-widgets/base",
            "_view_module_version": "1.2.0",
            "_view_name": "StyleView",
            "description_width": ""
          }
        },
        "7708b991d69440798360a12dd45a40b7": {
          "model_module": "@jupyter-widgets/controls",
          "model_name": "HBoxModel",
          "model_module_version": "1.5.0",
          "state": {
            "_dom_classes": [],
            "_model_module": "@jupyter-widgets/controls",
            "_model_module_version": "1.5.0",
            "_model_name": "HBoxModel",
            "_view_count": null,
            "_view_module": "@jupyter-widgets/controls",
            "_view_module_version": "1.5.0",
            "_view_name": "HBoxView",
            "box_style": "",
            "children": [
              "IPY_MODEL_b46b1f371bd0469990eba21fa8a65087",
              "IPY_MODEL_1cdac38bed40401daa13b921f151ce89",
              "IPY_MODEL_9b8249aa2b1c49f99411bfde93e1a26b"
            ],
            "layout": "IPY_MODEL_4561faab64034868b89cda2f5f1d3d01"
          }
        },
        "b46b1f371bd0469990eba21fa8a65087": {
          "model_module": "@jupyter-widgets/controls",
          "model_name": "HTMLModel",
          "model_module_version": "1.5.0",
          "state": {
            "_dom_classes": [],
            "_model_module": "@jupyter-widgets/controls",
            "_model_module_version": "1.5.0",
            "_model_name": "HTMLModel",
            "_view_count": null,
            "_view_module": "@jupyter-widgets/controls",
            "_view_module_version": "1.5.0",
            "_view_name": "HTMLView",
            "description": "",
            "description_tooltip": null,
            "layout": "IPY_MODEL_495e2e15364d472dae86fb92ff49162a",
            "placeholder": "​",
            "style": "IPY_MODEL_e7935fa4a4b6443e97708f290e661036",
            "value": "100%"
          }
        },
        "1cdac38bed40401daa13b921f151ce89": {
          "model_module": "@jupyter-widgets/controls",
          "model_name": "FloatProgressModel",
          "model_module_version": "1.5.0",
          "state": {
            "_dom_classes": [],
            "_model_module": "@jupyter-widgets/controls",
            "_model_module_version": "1.5.0",
            "_model_name": "FloatProgressModel",
            "_view_count": null,
            "_view_module": "@jupyter-widgets/controls",
            "_view_module_version": "1.5.0",
            "_view_name": "ProgressView",
            "bar_style": "success",
            "description": "",
            "description_tooltip": null,
            "layout": "IPY_MODEL_de9583b432e0450e828087ad67f934d7",
            "max": 4422102,
            "min": 0,
            "orientation": "horizontal",
            "style": "IPY_MODEL_74de42324b224fdebe9c99a9015a543e",
            "value": 4422102
          }
        },
        "9b8249aa2b1c49f99411bfde93e1a26b": {
          "model_module": "@jupyter-widgets/controls",
          "model_name": "HTMLModel",
          "model_module_version": "1.5.0",
          "state": {
            "_dom_classes": [],
            "_model_module": "@jupyter-widgets/controls",
            "_model_module_version": "1.5.0",
            "_model_name": "HTMLModel",
            "_view_count": null,
            "_view_module": "@jupyter-widgets/controls",
            "_view_module_version": "1.5.0",
            "_view_name": "HTMLView",
            "description": "",
            "description_tooltip": null,
            "layout": "IPY_MODEL_dd0d9fe7ce9d4ee6bff5e2d75ce88dc3",
            "placeholder": "​",
            "style": "IPY_MODEL_2dd6556d4bf24d99b788f132d7cbdadd",
            "value": " 4422102/4422102 [00:00&lt;00:00, 48649675.43it/s]"
          }
        },
        "4561faab64034868b89cda2f5f1d3d01": {
          "model_module": "@jupyter-widgets/base",
          "model_name": "LayoutModel",
          "model_module_version": "1.2.0",
          "state": {
            "_model_module": "@jupyter-widgets/base",
            "_model_module_version": "1.2.0",
            "_model_name": "LayoutModel",
            "_view_count": null,
            "_view_module": "@jupyter-widgets/base",
            "_view_module_version": "1.2.0",
            "_view_name": "LayoutView",
            "align_content": null,
            "align_items": null,
            "align_self": null,
            "border": null,
            "bottom": null,
            "display": null,
            "flex": null,
            "flex_flow": null,
            "grid_area": null,
            "grid_auto_columns": null,
            "grid_auto_flow": null,
            "grid_auto_rows": null,
            "grid_column": null,
            "grid_gap": null,
            "grid_row": null,
            "grid_template_areas": null,
            "grid_template_columns": null,
            "grid_template_rows": null,
            "height": null,
            "justify_content": null,
            "justify_items": null,
            "left": null,
            "margin": null,
            "max_height": null,
            "max_width": null,
            "min_height": null,
            "min_width": null,
            "object_fit": null,
            "object_position": null,
            "order": null,
            "overflow": null,
            "overflow_x": null,
            "overflow_y": null,
            "padding": null,
            "right": null,
            "top": null,
            "visibility": null,
            "width": null
          }
        },
        "495e2e15364d472dae86fb92ff49162a": {
          "model_module": "@jupyter-widgets/base",
          "model_name": "LayoutModel",
          "model_module_version": "1.2.0",
          "state": {
            "_model_module": "@jupyter-widgets/base",
            "_model_module_version": "1.2.0",
            "_model_name": "LayoutModel",
            "_view_count": null,
            "_view_module": "@jupyter-widgets/base",
            "_view_module_version": "1.2.0",
            "_view_name": "LayoutView",
            "align_content": null,
            "align_items": null,
            "align_self": null,
            "border": null,
            "bottom": null,
            "display": null,
            "flex": null,
            "flex_flow": null,
            "grid_area": null,
            "grid_auto_columns": null,
            "grid_auto_flow": null,
            "grid_auto_rows": null,
            "grid_column": null,
            "grid_gap": null,
            "grid_row": null,
            "grid_template_areas": null,
            "grid_template_columns": null,
            "grid_template_rows": null,
            "height": null,
            "justify_content": null,
            "justify_items": null,
            "left": null,
            "margin": null,
            "max_height": null,
            "max_width": null,
            "min_height": null,
            "min_width": null,
            "object_fit": null,
            "object_position": null,
            "order": null,
            "overflow": null,
            "overflow_x": null,
            "overflow_y": null,
            "padding": null,
            "right": null,
            "top": null,
            "visibility": null,
            "width": null
          }
        },
        "e7935fa4a4b6443e97708f290e661036": {
          "model_module": "@jupyter-widgets/controls",
          "model_name": "DescriptionStyleModel",
          "model_module_version": "1.5.0",
          "state": {
            "_model_module": "@jupyter-widgets/controls",
            "_model_module_version": "1.5.0",
            "_model_name": "DescriptionStyleModel",
            "_view_count": null,
            "_view_module": "@jupyter-widgets/base",
            "_view_module_version": "1.2.0",
            "_view_name": "StyleView",
            "description_width": ""
          }
        },
        "de9583b432e0450e828087ad67f934d7": {
          "model_module": "@jupyter-widgets/base",
          "model_name": "LayoutModel",
          "model_module_version": "1.2.0",
          "state": {
            "_model_module": "@jupyter-widgets/base",
            "_model_module_version": "1.2.0",
            "_model_name": "LayoutModel",
            "_view_count": null,
            "_view_module": "@jupyter-widgets/base",
            "_view_module_version": "1.2.0",
            "_view_name": "LayoutView",
            "align_content": null,
            "align_items": null,
            "align_self": null,
            "border": null,
            "bottom": null,
            "display": null,
            "flex": null,
            "flex_flow": null,
            "grid_area": null,
            "grid_auto_columns": null,
            "grid_auto_flow": null,
            "grid_auto_rows": null,
            "grid_column": null,
            "grid_gap": null,
            "grid_row": null,
            "grid_template_areas": null,
            "grid_template_columns": null,
            "grid_template_rows": null,
            "height": null,
            "justify_content": null,
            "justify_items": null,
            "left": null,
            "margin": null,
            "max_height": null,
            "max_width": null,
            "min_height": null,
            "min_width": null,
            "object_fit": null,
            "object_position": null,
            "order": null,
            "overflow": null,
            "overflow_x": null,
            "overflow_y": null,
            "padding": null,
            "right": null,
            "top": null,
            "visibility": null,
            "width": null
          }
        },
        "74de42324b224fdebe9c99a9015a543e": {
          "model_module": "@jupyter-widgets/controls",
          "model_name": "ProgressStyleModel",
          "model_module_version": "1.5.0",
          "state": {
            "_model_module": "@jupyter-widgets/controls",
            "_model_module_version": "1.5.0",
            "_model_name": "ProgressStyleModel",
            "_view_count": null,
            "_view_module": "@jupyter-widgets/base",
            "_view_module_version": "1.2.0",
            "_view_name": "StyleView",
            "bar_color": null,
            "description_width": ""
          }
        },
        "dd0d9fe7ce9d4ee6bff5e2d75ce88dc3": {
          "model_module": "@jupyter-widgets/base",
          "model_name": "LayoutModel",
          "model_module_version": "1.2.0",
          "state": {
            "_model_module": "@jupyter-widgets/base",
            "_model_module_version": "1.2.0",
            "_model_name": "LayoutModel",
            "_view_count": null,
            "_view_module": "@jupyter-widgets/base",
            "_view_module_version": "1.2.0",
            "_view_name": "LayoutView",
            "align_content": null,
            "align_items": null,
            "align_self": null,
            "border": null,
            "bottom": null,
            "display": null,
            "flex": null,
            "flex_flow": null,
            "grid_area": null,
            "grid_auto_columns": null,
            "grid_auto_flow": null,
            "grid_auto_rows": null,
            "grid_column": null,
            "grid_gap": null,
            "grid_row": null,
            "grid_template_areas": null,
            "grid_template_columns": null,
            "grid_template_rows": null,
            "height": null,
            "justify_content": null,
            "justify_items": null,
            "left": null,
            "margin": null,
            "max_height": null,
            "max_width": null,
            "min_height": null,
            "min_width": null,
            "object_fit": null,
            "object_position": null,
            "order": null,
            "overflow": null,
            "overflow_x": null,
            "overflow_y": null,
            "padding": null,
            "right": null,
            "top": null,
            "visibility": null,
            "width": null
          }
        },
        "2dd6556d4bf24d99b788f132d7cbdadd": {
          "model_module": "@jupyter-widgets/controls",
          "model_name": "DescriptionStyleModel",
          "model_module_version": "1.5.0",
          "state": {
            "_model_module": "@jupyter-widgets/controls",
            "_model_module_version": "1.5.0",
            "_model_name": "DescriptionStyleModel",
            "_view_count": null,
            "_view_module": "@jupyter-widgets/base",
            "_view_module_version": "1.2.0",
            "_view_name": "StyleView",
            "description_width": ""
          }
        },
        "3c455309ff07403a908368a9d0369984": {
          "model_module": "@jupyter-widgets/controls",
          "model_name": "HBoxModel",
          "model_module_version": "1.5.0",
          "state": {
            "_dom_classes": [],
            "_model_module": "@jupyter-widgets/controls",
            "_model_module_version": "1.5.0",
            "_model_name": "HBoxModel",
            "_view_count": null,
            "_view_module": "@jupyter-widgets/controls",
            "_view_module_version": "1.5.0",
            "_view_name": "HBoxView",
            "box_style": "",
            "children": [
              "IPY_MODEL_91ed412094064bfe88cbe8f1722dc3fd",
              "IPY_MODEL_0ec014c50b4e44ddb8a3279901f4a8d2",
              "IPY_MODEL_3f1ba3ae0cbc46f6813a59ebee98a23c"
            ],
            "layout": "IPY_MODEL_7ab4142e9ae24406ab9169b654f0a9d2"
          }
        },
        "91ed412094064bfe88cbe8f1722dc3fd": {
          "model_module": "@jupyter-widgets/controls",
          "model_name": "HTMLModel",
          "model_module_version": "1.5.0",
          "state": {
            "_dom_classes": [],
            "_model_module": "@jupyter-widgets/controls",
            "_model_module_version": "1.5.0",
            "_model_name": "HTMLModel",
            "_view_count": null,
            "_view_module": "@jupyter-widgets/controls",
            "_view_module_version": "1.5.0",
            "_view_name": "HTMLView",
            "description": "",
            "description_tooltip": null,
            "layout": "IPY_MODEL_8949359768054b049204adef406d9453",
            "placeholder": "​",
            "style": "IPY_MODEL_bd499a40ea624aa69ad22cca42083422",
            "value": "100%"
          }
        },
        "0ec014c50b4e44ddb8a3279901f4a8d2": {
          "model_module": "@jupyter-widgets/controls",
          "model_name": "FloatProgressModel",
          "model_module_version": "1.5.0",
          "state": {
            "_dom_classes": [],
            "_model_module": "@jupyter-widgets/controls",
            "_model_module_version": "1.5.0",
            "_model_name": "FloatProgressModel",
            "_view_count": null,
            "_view_module": "@jupyter-widgets/controls",
            "_view_module_version": "1.5.0",
            "_view_name": "ProgressView",
            "bar_style": "success",
            "description": "",
            "description_tooltip": null,
            "layout": "IPY_MODEL_db9f193f87cb461cb0933ce6e3cbed98",
            "max": 5148,
            "min": 0,
            "orientation": "horizontal",
            "style": "IPY_MODEL_ff8cc87c4c214128a087ecfe38e20ac0",
            "value": 5148
          }
        },
        "3f1ba3ae0cbc46f6813a59ebee98a23c": {
          "model_module": "@jupyter-widgets/controls",
          "model_name": "HTMLModel",
          "model_module_version": "1.5.0",
          "state": {
            "_dom_classes": [],
            "_model_module": "@jupyter-widgets/controls",
            "_model_module_version": "1.5.0",
            "_model_name": "HTMLModel",
            "_view_count": null,
            "_view_module": "@jupyter-widgets/controls",
            "_view_module_version": "1.5.0",
            "_view_name": "HTMLView",
            "description": "",
            "description_tooltip": null,
            "layout": "IPY_MODEL_c28ec72f035f45d79bce88f4cc90a442",
            "placeholder": "​",
            "style": "IPY_MODEL_e2a13ff09c65432d9e9498619d284073",
            "value": " 5148/5148 [00:00&lt;00:00, 207452.48it/s]"
          }
        },
        "7ab4142e9ae24406ab9169b654f0a9d2": {
          "model_module": "@jupyter-widgets/base",
          "model_name": "LayoutModel",
          "model_module_version": "1.2.0",
          "state": {
            "_model_module": "@jupyter-widgets/base",
            "_model_module_version": "1.2.0",
            "_model_name": "LayoutModel",
            "_view_count": null,
            "_view_module": "@jupyter-widgets/base",
            "_view_module_version": "1.2.0",
            "_view_name": "LayoutView",
            "align_content": null,
            "align_items": null,
            "align_self": null,
            "border": null,
            "bottom": null,
            "display": null,
            "flex": null,
            "flex_flow": null,
            "grid_area": null,
            "grid_auto_columns": null,
            "grid_auto_flow": null,
            "grid_auto_rows": null,
            "grid_column": null,
            "grid_gap": null,
            "grid_row": null,
            "grid_template_areas": null,
            "grid_template_columns": null,
            "grid_template_rows": null,
            "height": null,
            "justify_content": null,
            "justify_items": null,
            "left": null,
            "margin": null,
            "max_height": null,
            "max_width": null,
            "min_height": null,
            "min_width": null,
            "object_fit": null,
            "object_position": null,
            "order": null,
            "overflow": null,
            "overflow_x": null,
            "overflow_y": null,
            "padding": null,
            "right": null,
            "top": null,
            "visibility": null,
            "width": null
          }
        },
        "8949359768054b049204adef406d9453": {
          "model_module": "@jupyter-widgets/base",
          "model_name": "LayoutModel",
          "model_module_version": "1.2.0",
          "state": {
            "_model_module": "@jupyter-widgets/base",
            "_model_module_version": "1.2.0",
            "_model_name": "LayoutModel",
            "_view_count": null,
            "_view_module": "@jupyter-widgets/base",
            "_view_module_version": "1.2.0",
            "_view_name": "LayoutView",
            "align_content": null,
            "align_items": null,
            "align_self": null,
            "border": null,
            "bottom": null,
            "display": null,
            "flex": null,
            "flex_flow": null,
            "grid_area": null,
            "grid_auto_columns": null,
            "grid_auto_flow": null,
            "grid_auto_rows": null,
            "grid_column": null,
            "grid_gap": null,
            "grid_row": null,
            "grid_template_areas": null,
            "grid_template_columns": null,
            "grid_template_rows": null,
            "height": null,
            "justify_content": null,
            "justify_items": null,
            "left": null,
            "margin": null,
            "max_height": null,
            "max_width": null,
            "min_height": null,
            "min_width": null,
            "object_fit": null,
            "object_position": null,
            "order": null,
            "overflow": null,
            "overflow_x": null,
            "overflow_y": null,
            "padding": null,
            "right": null,
            "top": null,
            "visibility": null,
            "width": null
          }
        },
        "bd499a40ea624aa69ad22cca42083422": {
          "model_module": "@jupyter-widgets/controls",
          "model_name": "DescriptionStyleModel",
          "model_module_version": "1.5.0",
          "state": {
            "_model_module": "@jupyter-widgets/controls",
            "_model_module_version": "1.5.0",
            "_model_name": "DescriptionStyleModel",
            "_view_count": null,
            "_view_module": "@jupyter-widgets/base",
            "_view_module_version": "1.2.0",
            "_view_name": "StyleView",
            "description_width": ""
          }
        },
        "db9f193f87cb461cb0933ce6e3cbed98": {
          "model_module": "@jupyter-widgets/base",
          "model_name": "LayoutModel",
          "model_module_version": "1.2.0",
          "state": {
            "_model_module": "@jupyter-widgets/base",
            "_model_module_version": "1.2.0",
            "_model_name": "LayoutModel",
            "_view_count": null,
            "_view_module": "@jupyter-widgets/base",
            "_view_module_version": "1.2.0",
            "_view_name": "LayoutView",
            "align_content": null,
            "align_items": null,
            "align_self": null,
            "border": null,
            "bottom": null,
            "display": null,
            "flex": null,
            "flex_flow": null,
            "grid_area": null,
            "grid_auto_columns": null,
            "grid_auto_flow": null,
            "grid_auto_rows": null,
            "grid_column": null,
            "grid_gap": null,
            "grid_row": null,
            "grid_template_areas": null,
            "grid_template_columns": null,
            "grid_template_rows": null,
            "height": null,
            "justify_content": null,
            "justify_items": null,
            "left": null,
            "margin": null,
            "max_height": null,
            "max_width": null,
            "min_height": null,
            "min_width": null,
            "object_fit": null,
            "object_position": null,
            "order": null,
            "overflow": null,
            "overflow_x": null,
            "overflow_y": null,
            "padding": null,
            "right": null,
            "top": null,
            "visibility": null,
            "width": null
          }
        },
        "ff8cc87c4c214128a087ecfe38e20ac0": {
          "model_module": "@jupyter-widgets/controls",
          "model_name": "ProgressStyleModel",
          "model_module_version": "1.5.0",
          "state": {
            "_model_module": "@jupyter-widgets/controls",
            "_model_module_version": "1.5.0",
            "_model_name": "ProgressStyleModel",
            "_view_count": null,
            "_view_module": "@jupyter-widgets/base",
            "_view_module_version": "1.2.0",
            "_view_name": "StyleView",
            "bar_color": null,
            "description_width": ""
          }
        },
        "c28ec72f035f45d79bce88f4cc90a442": {
          "model_module": "@jupyter-widgets/base",
          "model_name": "LayoutModel",
          "model_module_version": "1.2.0",
          "state": {
            "_model_module": "@jupyter-widgets/base",
            "_model_module_version": "1.2.0",
            "_model_name": "LayoutModel",
            "_view_count": null,
            "_view_module": "@jupyter-widgets/base",
            "_view_module_version": "1.2.0",
            "_view_name": "LayoutView",
            "align_content": null,
            "align_items": null,
            "align_self": null,
            "border": null,
            "bottom": null,
            "display": null,
            "flex": null,
            "flex_flow": null,
            "grid_area": null,
            "grid_auto_columns": null,
            "grid_auto_flow": null,
            "grid_auto_rows": null,
            "grid_column": null,
            "grid_gap": null,
            "grid_row": null,
            "grid_template_areas": null,
            "grid_template_columns": null,
            "grid_template_rows": null,
            "height": null,
            "justify_content": null,
            "justify_items": null,
            "left": null,
            "margin": null,
            "max_height": null,
            "max_width": null,
            "min_height": null,
            "min_width": null,
            "object_fit": null,
            "object_position": null,
            "order": null,
            "overflow": null,
            "overflow_x": null,
            "overflow_y": null,
            "padding": null,
            "right": null,
            "top": null,
            "visibility": null,
            "width": null
          }
        },
        "e2a13ff09c65432d9e9498619d284073": {
          "model_module": "@jupyter-widgets/controls",
          "model_name": "DescriptionStyleModel",
          "model_module_version": "1.5.0",
          "state": {
            "_model_module": "@jupyter-widgets/controls",
            "_model_module_version": "1.5.0",
            "_model_name": "DescriptionStyleModel",
            "_view_count": null,
            "_view_module": "@jupyter-widgets/base",
            "_view_module_version": "1.2.0",
            "_view_name": "StyleView",
            "description_width": ""
          }
        }
      }
    }
  },
  "cells": [
    {
      "cell_type": "markdown",
      "source": [
        "# AML_Assignment_2_Question_2\n",
        "Aniket Santra(MDS202106)\\\n",
        "Avik Das(MDS202112)\\\n",
        "Meghna Mondal(MDS202123)"
      ],
      "metadata": {
        "id": "nQRUJA38gbPo"
      }
    },
    {
      "cell_type": "code",
      "execution_count": 1,
      "metadata": {
        "id": "pA4y3PFejF7s"
      },
      "outputs": [],
      "source": [
        "import torch\n",
        "import torch.nn as nn\n",
        "import torch.nn.functional as F\n",
        "from torch.utils.data import DataLoader\n",
        "from torchvision import datasets, transforms, models\n",
        "from torchvision.utils import make_grid\n",
        "\n",
        "from PIL import Image\n",
        "from IPython.display import display\n",
        "import cv2\n",
        "\n",
        "\n",
        "import glob\n",
        "import os\n",
        "import random\n",
        "import numpy as np\n",
        "import pandas as pd\n",
        "import pickle as pkl\n",
        "import matplotlib.pyplot as plt \n",
        "%matplotlib inline\n",
        "import warnings\n",
        "warnings.filterwarnings('ignore')"
      ]
    },
    {
      "cell_type": "code",
      "source": [
        "def seed_everything(seed=42):\n",
        "    random.seed(seed)\n",
        "    os.environ['PYTHONHASHSEED'] = str(seed)\n",
        "    np.random.seed(seed)\n",
        "    torch.manual_seed(seed)\n",
        "    torch.cuda.manual_seed(seed)\n",
        "    torch.backends.cudnn.deterministic = True\n",
        "seed_everything(42)"
      ],
      "metadata": {
        "id": "6RwNqiwSj73g"
      },
      "execution_count": 2,
      "outputs": []
    },
    {
      "cell_type": "markdown",
      "source": [
        "# Dataloader and Visualization"
      ],
      "metadata": {
        "id": "iT0L1hO8X6B5"
      }
    },
    {
      "cell_type": "code",
      "source": [
        "# Define data loading step\n",
        "\n",
        "transform_img = transforms.Compose([\n",
        "        transforms.Resize(32),  \n",
        "        transforms.CenterCrop(32),\n",
        "        transforms.ToTensor()\n",
        "    ])\n",
        "\n",
        "train_loader = torch.utils.data.DataLoader(\n",
        "    datasets.FashionMNIST('../data', train=True, download=True, transform=transform_img),\n",
        "    batch_size=32, shuffle=True)\n",
        "\n",
        "test_loader = torch.utils.data.DataLoader(\n",
        "    datasets.FashionMNIST('../data', train=False, transform=transform_img),\n",
        "    batch_size=32, shuffle=True)"
      ],
      "metadata": {
        "id": "GabC-tlclApV",
        "colab": {
          "base_uri": "https://localhost:8080/",
          "height": 423,
          "referenced_widgets": [
            "588e7e776799408c84a66c7e55da6d47",
            "cb4bd890448a402c99ee38bd512dc177",
            "488dbf3cb1044864a9428ab2f5608212",
            "d231173d773d46fbaf666936aadbcff2",
            "a0d2cd3a3576434b9d21efd5b21950b8",
            "186cb976e98b4b1ea99ac2f7c9d39145",
            "14d0d06562b2462ba605e3c868647fea",
            "74f5721d553f4a189200ef9955b0b2bd",
            "adb81fe9af8540ae84223fe25df67df2",
            "a18a3580281d4159b66e60c9be417063",
            "29035fdfe0484265af7499c855128c6d",
            "d55cc878a72b4fe2a7b3fb67ce91b048",
            "753f61d704364b67aef0086f8c546970",
            "31c8ff477f9143fa9f3e2e17e54e45f7",
            "3cdf62ac72874d54bfca5749192a75ac",
            "1ff1b7501f1d433a80c01eeb24606777",
            "7373ea3dd21a431c9480669465416d53",
            "193e1eb1906748a6bea0aa9e65df22c7",
            "b556a4a64c6b40e2a4b89bb3611202fc",
            "e3cbf99b1cea4a15a126d943d64c91fd",
            "4e77bab72ecd4112b39b94c25f49926e",
            "9fa10cc3274a47ecafb086b2f315202e",
            "7708b991d69440798360a12dd45a40b7",
            "b46b1f371bd0469990eba21fa8a65087",
            "1cdac38bed40401daa13b921f151ce89",
            "9b8249aa2b1c49f99411bfde93e1a26b",
            "4561faab64034868b89cda2f5f1d3d01",
            "495e2e15364d472dae86fb92ff49162a",
            "e7935fa4a4b6443e97708f290e661036",
            "de9583b432e0450e828087ad67f934d7",
            "74de42324b224fdebe9c99a9015a543e",
            "dd0d9fe7ce9d4ee6bff5e2d75ce88dc3",
            "2dd6556d4bf24d99b788f132d7cbdadd",
            "3c455309ff07403a908368a9d0369984",
            "91ed412094064bfe88cbe8f1722dc3fd",
            "0ec014c50b4e44ddb8a3279901f4a8d2",
            "3f1ba3ae0cbc46f6813a59ebee98a23c",
            "7ab4142e9ae24406ab9169b654f0a9d2",
            "8949359768054b049204adef406d9453",
            "bd499a40ea624aa69ad22cca42083422",
            "db9f193f87cb461cb0933ce6e3cbed98",
            "ff8cc87c4c214128a087ecfe38e20ac0",
            "c28ec72f035f45d79bce88f4cc90a442",
            "e2a13ff09c65432d9e9498619d284073"
          ]
        },
        "outputId": "2e8e4c28-8320-40a8-dc07-c87c811723af"
      },
      "execution_count": 3,
      "outputs": [
        {
          "output_type": "stream",
          "name": "stdout",
          "text": [
            "Downloading http://fashion-mnist.s3-website.eu-central-1.amazonaws.com/train-images-idx3-ubyte.gz\n",
            "Downloading http://fashion-mnist.s3-website.eu-central-1.amazonaws.com/train-images-idx3-ubyte.gz to ../data/FashionMNIST/raw/train-images-idx3-ubyte.gz\n"
          ]
        },
        {
          "output_type": "display_data",
          "data": {
            "text/plain": [
              "  0%|          | 0/26421880 [00:00<?, ?it/s]"
            ],
            "application/vnd.jupyter.widget-view+json": {
              "version_major": 2,
              "version_minor": 0,
              "model_id": "588e7e776799408c84a66c7e55da6d47"
            }
          },
          "metadata": {}
        },
        {
          "output_type": "stream",
          "name": "stdout",
          "text": [
            "Extracting ../data/FashionMNIST/raw/train-images-idx3-ubyte.gz to ../data/FashionMNIST/raw\n",
            "\n",
            "Downloading http://fashion-mnist.s3-website.eu-central-1.amazonaws.com/train-labels-idx1-ubyte.gz\n",
            "Downloading http://fashion-mnist.s3-website.eu-central-1.amazonaws.com/train-labels-idx1-ubyte.gz to ../data/FashionMNIST/raw/train-labels-idx1-ubyte.gz\n"
          ]
        },
        {
          "output_type": "display_data",
          "data": {
            "text/plain": [
              "  0%|          | 0/29515 [00:00<?, ?it/s]"
            ],
            "application/vnd.jupyter.widget-view+json": {
              "version_major": 2,
              "version_minor": 0,
              "model_id": "d55cc878a72b4fe2a7b3fb67ce91b048"
            }
          },
          "metadata": {}
        },
        {
          "output_type": "stream",
          "name": "stdout",
          "text": [
            "Extracting ../data/FashionMNIST/raw/train-labels-idx1-ubyte.gz to ../data/FashionMNIST/raw\n",
            "\n",
            "Downloading http://fashion-mnist.s3-website.eu-central-1.amazonaws.com/t10k-images-idx3-ubyte.gz\n",
            "Downloading http://fashion-mnist.s3-website.eu-central-1.amazonaws.com/t10k-images-idx3-ubyte.gz to ../data/FashionMNIST/raw/t10k-images-idx3-ubyte.gz\n"
          ]
        },
        {
          "output_type": "display_data",
          "data": {
            "text/plain": [
              "  0%|          | 0/4422102 [00:00<?, ?it/s]"
            ],
            "application/vnd.jupyter.widget-view+json": {
              "version_major": 2,
              "version_minor": 0,
              "model_id": "7708b991d69440798360a12dd45a40b7"
            }
          },
          "metadata": {}
        },
        {
          "output_type": "stream",
          "name": "stdout",
          "text": [
            "Extracting ../data/FashionMNIST/raw/t10k-images-idx3-ubyte.gz to ../data/FashionMNIST/raw\n",
            "\n",
            "Downloading http://fashion-mnist.s3-website.eu-central-1.amazonaws.com/t10k-labels-idx1-ubyte.gz\n",
            "Downloading http://fashion-mnist.s3-website.eu-central-1.amazonaws.com/t10k-labels-idx1-ubyte.gz to ../data/FashionMNIST/raw/t10k-labels-idx1-ubyte.gz\n"
          ]
        },
        {
          "output_type": "display_data",
          "data": {
            "text/plain": [
              "  0%|          | 0/5148 [00:00<?, ?it/s]"
            ],
            "application/vnd.jupyter.widget-view+json": {
              "version_major": 2,
              "version_minor": 0,
              "model_id": "3c455309ff07403a908368a9d0369984"
            }
          },
          "metadata": {}
        },
        {
          "output_type": "stream",
          "name": "stdout",
          "text": [
            "Extracting ../data/FashionMNIST/raw/t10k-labels-idx1-ubyte.gz to ../data/FashionMNIST/raw\n",
            "\n"
          ]
        }
      ]
    },
    {
      "cell_type": "code",
      "source": [
        "classNames=['T-shirt/top','Trouser','Pullover','Dress','Coat','Sandal','Shirt',\n",
        "            'Sneaker','Bag','Ankle Boot']"
      ],
      "metadata": {
        "id": "nJsroaLzr3te"
      },
      "execution_count": 4,
      "outputs": []
    },
    {
      "cell_type": "code",
      "source": [
        "print(len(train_loader.dataset))"
      ],
      "metadata": {
        "colab": {
          "base_uri": "https://localhost:8080/"
        },
        "id": "qCZkqlBSlRrE",
        "outputId": "acb3d1d1-ba5b-431d-efb6-2dbc76f92210"
      },
      "execution_count": 5,
      "outputs": [
        {
          "output_type": "stream",
          "name": "stdout",
          "text": [
            "60000\n"
          ]
        }
      ]
    },
    {
      "cell_type": "code",
      "source": [
        "print(len(test_loader.dataset))"
      ],
      "metadata": {
        "colab": {
          "base_uri": "https://localhost:8080/"
        },
        "id": "tIfm10ahtNrp",
        "outputId": "6994b9e6-9cae-482d-892a-c5ffd4219662"
      },
      "execution_count": 6,
      "outputs": [
        {
          "output_type": "stream",
          "name": "stdout",
          "text": [
            "10000\n"
          ]
        }
      ]
    },
    {
      "cell_type": "code",
      "source": [
        "# show some training images\n",
        "def imshow(img, plot):\n",
        "    img = img / 2 + 0.5  # unnormalize\n",
        "    npimg = img.squeeze().numpy()   # convert from tensor\n",
        "    plot.imshow(npimg,cmap = \"gray\") \n",
        "    \n",
        "# show some training images\n",
        "plt.figure(figsize=(16, 4))\n",
        "\n",
        "# fetch a batch of train images; RANDOM\n",
        "image_batch, label_batch = next(iter(train_loader))\n",
        "\n",
        "for i in range(10):\n",
        "    image = image_batch[i]\n",
        "    label = label_batch[i].item()\n",
        "    plt.subplot(1, 10, i + 1)\n",
        "    # image, label = train_loader.dataset.__getitem__(i)\n",
        "    # plt.imshow(image.squeeze().numpy())\n",
        "    imshow(image,plt)\n",
        "    plt.axis('off')\n",
        "    plt.title(classNames[label])"
      ],
      "metadata": {
        "colab": {
          "base_uri": "https://localhost:8080/",
          "height": 123
        },
        "id": "uweL01C2lRob",
        "outputId": "83eaa54c-71e5-4e36-8f17-16227c2451ed"
      },
      "execution_count": 7,
      "outputs": [
        {
          "output_type": "display_data",
          "data": {
            "text/plain": [
              "<Figure size 1152x288 with 10 Axes>"
            ],
            "image/png": "[encoded data removed]"
          },
          "metadata": {
            "needs_background": "light"
          }
        }
      ]
    },
    {
      "cell_type": "markdown",
      "source": [
        "Now we need to scale our images as the output of a tanh activated generator will contain pixel values in a range from -1 to 1. So, we need to rescale our training images to a range of -1 to 1."
      ],
      "metadata": {
        "id": "HLGRY9RiYLDV"
      }
    },
    {
      "cell_type": "code",
      "source": [
        "def scale_images(x, max = 1.00 , min = -1.00):\n",
        "    x = x * (max - min) + min\n",
        "    return x"
      ],
      "metadata": {
        "id": "ODrRLPCX10A_"
      },
      "execution_count": 8,
      "outputs": []
    },
    {
      "cell_type": "markdown",
      "source": [
        "# Defining Model"
      ],
      "metadata": {
        "id": "vtTA_fpaYZG6"
      }
    },
    {
      "cell_type": "markdown",
      "source": [
        "## Discriminator"
      ],
      "metadata": {
        "id": "s0Jd1V9KeMXy"
      }
    },
    {
      "cell_type": "markdown",
      "source": [
        "The discriminator is a classifier that detects if the input samples are genuine or fabricated. As a result, the discriminator in a GAN is essentially a classifier. It attempts to discern between genuine data and data generated by the generator. It could utilize any network architecture suitable for the type of data it's classifying. Here I will be using convolutional classifier, only without any maxpooling layers. It is recommended to employ a deep network with normalization to deal with this kind of difficult data."
      ],
      "metadata": {
        "id": "UjUgR1bfePLB"
      }
    },
    {
      "cell_type": "code",
      "source": [
        "'''\n",
        "The inputs to the discriminator are 28x28x1 tensor images\n",
        "The output would be a single value that will indicate whether a given image is real or fake\n",
        "'''\n",
        "def conv(in_channels, out_channels, kernel_size = 4, stride = 2, padding = 1, batch_norm = True, bias = False):\n",
        "    layers = []\n",
        "    conv_layer = nn.Conv2d(in_channels=in_channels, out_channels=out_channels, \n",
        "                           kernel_size=kernel_size, stride=stride, padding=padding)\n",
        "    #appending convolutional layer\n",
        "    layers.append(conv_layer)\n",
        "    #appending batch norm layer\n",
        "    if batch_norm:\n",
        "        layers.append(nn.BatchNorm2d(out_channels))\n",
        "        \n",
        "    return nn.Sequential(*layers)"
      ],
      "metadata": {
        "id": "-wPek4QRlRmZ"
      },
      "execution_count": 9,
      "outputs": []
    },
    {
      "cell_type": "code",
      "source": [
        "class Discriminator(nn.Module):\n",
        "\n",
        "    def __init__(self, conv_dim):\n",
        "        \"\"\"\n",
        "        Initializing the Discriminator Module\n",
        "        :param conv_dim: The depth of the first convolutional layer based on which we will create the  next ones where next  layer depth = 2 * previous layer depth\n",
        "        \"\"\"\n",
        "        super(Discriminator, self).__init__()\n",
        "\n",
        "        # complete init function\n",
        "        self.conv_dim = conv_dim\n",
        "        \n",
        "        \n",
        "        self.conv1 = conv(1, conv_dim, batch_norm=False)  \n",
        "        self.conv2 = conv(conv_dim, conv_dim*2)           \n",
        "        self.conv3 = conv(conv_dim*2, conv_dim*4)\n",
        "        self.conv4 = conv(conv_dim*4, conv_dim*8)\n",
        "        self.fc = nn.Linear(conv_dim*4*4*2, 1)\n",
        "\n",
        "    def forward(self, x):\n",
        "        \"\"\"\n",
        "        Forward propagation of the neural network\n",
        "        :param x: The input to the neural network     \n",
        "        :return: Discriminator logits; the output of the neural network\n",
        "        \"\"\"\n",
        "        # define feedforward behavior\n",
        "        x = F.leaky_relu(self.conv1(x), 0.2)\n",
        "        x = F.leaky_relu(self.conv2(x), 0.2)\n",
        "        x = F.leaky_relu(self.conv3(x), 0.2)\n",
        "        x = F.leaky_relu(self.conv4(x), 0.2)\n",
        "        \n",
        "        x = x.view(-1, self.conv_dim*4*2*4)\n",
        "        \n",
        "        x = self.fc(x)\n",
        "        \n",
        "        \n",
        "        return x"
      ],
      "metadata": {
        "id": "LJv7bDmolRkV"
      },
      "execution_count": 10,
      "outputs": []
    },
    {
      "cell_type": "markdown",
      "source": [
        "## Generator"
      ],
      "metadata": {
        "id": "E2W6gGvteZN2"
      }
    },
    {
      "cell_type": "markdown",
      "source": [
        "The name,itself is self explanatory. The generator component of a GAN learns to generate fake data by incorporating discriminator feedback. It learns to manipulate the discriminator so that its output is classified as real. The generator should upsample an input and create a new image with the same dimensions as our training data (28x28x3). This should mostly consist of transpose convolutional layers with normalzed output."
      ],
      "metadata": {
        "id": "Benem6hTebRo"
      }
    },
    {
      "cell_type": "code",
      "source": [
        "def deconv(in_channels, out_channels, kernel_size = 4, stride = 2, padding = 1, batch_norm = True, bias = False):\n",
        "    layers = []\n",
        "    \n",
        "    # append transpose conv layer -- we are not using bias terms in conv layers\n",
        "    layers.append(nn.ConvTranspose2d(in_channels, out_channels, kernel_size, stride, padding))\n",
        "    \n",
        "    # optional batch norm layer\n",
        "    if batch_norm:\n",
        "        layers.append(nn.BatchNorm2d(out_channels))\n",
        "        \n",
        "    return nn.Sequential(*layers)"
      ],
      "metadata": {
        "id": "D1q0Vt5WlRiS"
      },
      "execution_count": 11,
      "outputs": []
    },
    {
      "cell_type": "code",
      "source": [
        "class Generator(nn.Module):\n",
        "    \n",
        "    def __init__(self, z_size, conv_dim):\n",
        "        \"\"\"\n",
        "        Initialize the Generator Module\n",
        "        :param z_size: The length of the input latent vector, z\n",
        "        :param conv_dim: The depth of the inputs to the *last* transpose convolutional layer\n",
        "        \"\"\"\n",
        "        super(Generator, self).__init__()\n",
        "        self.conv_dim = conv_dim\n",
        "        \n",
        "        self.fc = nn.Linear(z_size, conv_dim*4*4*4)\n",
        "        # complete init function\n",
        "        \n",
        "        self.de_conv1 = deconv(conv_dim*4, conv_dim*2)\n",
        "        self.de_conv2 = deconv(conv_dim*2, conv_dim)\n",
        "        self.de_conv3 = deconv(conv_dim, 1, 4, batch_norm=False )\n",
        "        \n",
        "        self.dropout = nn.Dropout(0.3)\n",
        "        \n",
        "        \n",
        "    def forward(self, x):\n",
        "        \"\"\"\n",
        "        Forward propagation of the neural network\n",
        "        :param x: The input to the neural network     \n",
        "        :return: A 32x32x1 Tensor image as output\n",
        "        \"\"\"\n",
        "        # define feedforward behavior\n",
        "        x = self.fc(x)\n",
        "        x = self.dropout(x)\n",
        "        \n",
        "        x = x.view(-1, self.conv_dim*4, 4, 4)\n",
        "        \n",
        "        x = F.relu(self.de_conv1(x))\n",
        "        x = F.relu(self.de_conv2(x))\n",
        "        x = self.de_conv3(x)\n",
        "        x = F.tanh(x)\n",
        "        \n",
        "        \n",
        "        return x"
      ],
      "metadata": {
        "id": "i9Vy9CnelRgr"
      },
      "execution_count": 12,
      "outputs": []
    },
    {
      "cell_type": "markdown",
      "source": [
        "All weights were initialized from a zero-centered Normal distribution with standard deviation 0.02."
      ],
      "metadata": {
        "id": "j3NsL3oXe0qV"
      }
    },
    {
      "cell_type": "code",
      "source": [
        "#Initializing the weights to a normal distribution, centered around 0, with a standard deviation of 0.02.\n",
        "\n",
        "def weights_init_normal(m):\n",
        "    \"\"\"\n",
        "    :param m: A module or layer in a network    \n",
        "    \"\"\"\n",
        "    # like `Conv`, `BatchNorm2d`, `Linear`, etc.\n",
        "    classname = m.__class__.__name__\n",
        "    \n",
        "    #  initial weights to convolutional and linear layers\n",
        "    if (classname.find('Conv') != -1 or classname.find('Linear') != -1):\n",
        "        nn.init.normal(m.weight.data, 0.0, 0.2)\n",
        "        \n",
        "    if hasattr(m, 'bias') and m.bias is not None:\n",
        "        nn.init.constant(m.bias.data, 0.0)"
      ],
      "metadata": {
        "id": "AeKGHW8rlRea"
      },
      "execution_count": 13,
      "outputs": []
    },
    {
      "cell_type": "code",
      "source": [
        "# model hyperparameters\n",
        "d_conv_dim = 64\n",
        "g_conv_dim = 128\n",
        "z_size = 100\n",
        "# building discriminator and generator from the classes defined above\n",
        "discriminator = Discriminator(d_conv_dim)\n",
        "generator = Generator(z_size=z_size, conv_dim=g_conv_dim)\n",
        "\n",
        "# initialize model weights\n",
        "discriminator.apply(weights_init_normal)\n",
        "generator.apply(weights_init_normal)\n",
        "print(\"done\")"
      ],
      "metadata": {
        "colab": {
          "base_uri": "https://localhost:8080/"
        },
        "id": "3alIwVIhlRcC",
        "outputId": "a80b6702-3386-4b38-9a30-ec797139f803"
      },
      "execution_count": 14,
      "outputs": [
        {
          "output_type": "stream",
          "name": "stdout",
          "text": [
            "done\n"
          ]
        }
      ]
    },
    {
      "cell_type": "code",
      "source": [
        "# let's look at our discriminator model\n",
        "print(discriminator)"
      ],
      "metadata": {
        "colab": {
          "base_uri": "https://localhost:8080/"
        },
        "id": "lcl1NaB3lRZp",
        "outputId": "beb9dd47-0990-4673-9a49-66ed02cbca64"
      },
      "execution_count": 15,
      "outputs": [
        {
          "output_type": "stream",
          "name": "stdout",
          "text": [
            "Discriminator(\n",
            "  (conv1): Sequential(\n",
            "    (0): Conv2d(1, 64, kernel_size=(4, 4), stride=(2, 2), padding=(1, 1))\n",
            "  )\n",
            "  (conv2): Sequential(\n",
            "    (0): Conv2d(64, 128, kernel_size=(4, 4), stride=(2, 2), padding=(1, 1))\n",
            "    (1): BatchNorm2d(128, eps=1e-05, momentum=0.1, affine=True, track_running_stats=True)\n",
            "  )\n",
            "  (conv3): Sequential(\n",
            "    (0): Conv2d(128, 256, kernel_size=(4, 4), stride=(2, 2), padding=(1, 1))\n",
            "    (1): BatchNorm2d(256, eps=1e-05, momentum=0.1, affine=True, track_running_stats=True)\n",
            "  )\n",
            "  (conv4): Sequential(\n",
            "    (0): Conv2d(256, 512, kernel_size=(4, 4), stride=(2, 2), padding=(1, 1))\n",
            "    (1): BatchNorm2d(512, eps=1e-05, momentum=0.1, affine=True, track_running_stats=True)\n",
            "  )\n",
            "  (fc): Linear(in_features=2048, out_features=1, bias=True)\n",
            ")\n"
          ]
        }
      ]
    },
    {
      "cell_type": "code",
      "source": [
        "# let's look at our generator model\n",
        "print(generator)"
      ],
      "metadata": {
        "colab": {
          "base_uri": "https://localhost:8080/"
        },
        "id": "tlUpigyDlRXb",
        "outputId": "99f03de0-57b3-486b-9f92-c8e4952d00ac"
      },
      "execution_count": 16,
      "outputs": [
        {
          "output_type": "stream",
          "name": "stdout",
          "text": [
            "Generator(\n",
            "  (fc): Linear(in_features=100, out_features=8192, bias=True)\n",
            "  (de_conv1): Sequential(\n",
            "    (0): ConvTranspose2d(512, 256, kernel_size=(4, 4), stride=(2, 2), padding=(1, 1))\n",
            "    (1): BatchNorm2d(256, eps=1e-05, momentum=0.1, affine=True, track_running_stats=True)\n",
            "  )\n",
            "  (de_conv2): Sequential(\n",
            "    (0): ConvTranspose2d(256, 128, kernel_size=(4, 4), stride=(2, 2), padding=(1, 1))\n",
            "    (1): BatchNorm2d(128, eps=1e-05, momentum=0.1, affine=True, track_running_stats=True)\n",
            "  )\n",
            "  (de_conv3): Sequential(\n",
            "    (0): ConvTranspose2d(128, 1, kernel_size=(4, 4), stride=(2, 2), padding=(1, 1))\n",
            "  )\n",
            "  (dropout): Dropout(p=0.3, inplace=False)\n",
            ")\n"
          ]
        }
      ]
    },
    {
      "cell_type": "markdown",
      "source": [
        "# Training the model"
      ],
      "metadata": {
        "id": "ZtLg2Qfcfm-H"
      }
    },
    {
      "cell_type": "code",
      "source": [
        "use_gpu = torch.cuda.is_available()"
      ],
      "metadata": {
        "id": "jW_V5Lh0lRUx"
      },
      "execution_count": 17,
      "outputs": []
    },
    {
      "cell_type": "markdown",
      "source": [
        "## Optimizers"
      ],
      "metadata": {
        "id": "UqC8nLpBfs6Z"
      }
    },
    {
      "cell_type": "code",
      "source": [
        "lr = 0.0002 #learning rate\n",
        "beta1=0.5\n",
        "beta2=0.999\n",
        "\n",
        "# optimizers for the discriminator D and generator G\n",
        "discriminator_optimizer = torch.optim.Adam(discriminator.parameters(), lr, (beta1, beta2)) # for discriminator\n",
        "generator_optimizer = torch.optim.Adam(generator.parameters(), lr, (beta1, beta2)) # for generator\n",
        "\n",
        "# discriminator_optimizer = torch.optim.Adagrad(discriminator.parameters(), lr) # for discriminator\n",
        "# generator_optimizer = torch.optim.Adagrad(generator.parameters(), lr) # for generator"
      ],
      "metadata": {
        "id": "Q6fbh4XA09m7"
      },
      "execution_count": 18,
      "outputs": []
    },
    {
      "cell_type": "markdown",
      "source": [
        "## Loss functions for generator\n",
        "The generator's goal is to get the discriminator to think its generated images are real."
      ],
      "metadata": {
        "id": "uZpq8FDJfzKt"
      }
    },
    {
      "cell_type": "code",
      "source": [
        "def real_loss(D_out, smooth = False):\n",
        "    '''Calculates how close discriminator outputs are to being real.\n",
        "       param, D_out: discriminator logits\n",
        "       return: real loss'''\n",
        "    batch_size = D_out.size(0)\n",
        "    \n",
        "    if smooth:\n",
        "        labels = torch.ones(batch_size)*0.9\n",
        "    else:\n",
        "        labels = torch.ones(batch_size) \n",
        "    \n",
        "    if use_gpu:\n",
        "        labels = labels.cuda()\n",
        "    \n",
        "    criterion = nn.BCEWithLogitsLoss()\n",
        "    loss = criterion(D_out.squeeze(), labels)\n",
        "    \n",
        "    return loss\n",
        "\n",
        "def fake_loss(D_out):\n",
        "    '''Calculates how close discriminator outputs are to being fake.\n",
        "       param, D_out: discriminator logits\n",
        "       return: fake loss'''\n",
        "    batch_size = D_out.size(0)\n",
        "    labels = torch.zeros(batch_size)\n",
        "    \n",
        "    if use_gpu:\n",
        "        labels = labels.cuda()\n",
        "        \n",
        "    criterion = nn.BCEWithLogitsLoss()\n",
        "    loss = criterion(D_out.squeeze(), labels)\n",
        "    \n",
        "    return loss"
      ],
      "metadata": {
        "id": "7sXlVa7G09jZ"
      },
      "execution_count": 19,
      "outputs": []
    },
    {
      "cell_type": "markdown",
      "source": [
        "Training the discriminator by alternating on real and fake images. Then the generator, which tries to trick the discriminator and should have an opposing loss function."
      ],
      "metadata": {
        "id": "AKt9lpVVgCli"
      }
    },
    {
      "cell_type": "code",
      "source": [
        "def train(D, G, n_epochs, train_on_gpu, print_every=50):\n",
        "    '''Trains adversarial networks for some number of epochs\n",
        "       param, D: the discriminator network\n",
        "       param, G: the generator network\n",
        "       param, n_epochs: number of epochs to train for\n",
        "       param, print_every: when to print and record the models' losses\n",
        "       return: D and G losses'''\n",
        "    \n",
        "    # move models to GPU\n",
        "    if train_on_gpu:\n",
        "        D.cuda()\n",
        "        G.cuda()\n",
        "\n",
        "    # keep track of loss and generated, \"fake\" samples\n",
        "    samples = []\n",
        "    losses = []\n",
        "\n",
        "    # Get some fixed data for sampling. These are images that are held\n",
        "    # constant throughout training, and allow us to inspect the model's performance\n",
        "    sample_size=16\n",
        "    fixed_z = np.random.uniform(-1, 1, size=(sample_size, z_size))\n",
        "    fixed_z = torch.from_numpy(fixed_z).float()\n",
        "    # move z to GPU if available\n",
        "    if train_on_gpu:\n",
        "        fixed_z = fixed_z.cuda()\n",
        "\n",
        "    # epoch training loop\n",
        "    for epoch in range(n_epochs):\n",
        "\n",
        "        # batch training loop\n",
        "        for batch_i, (real_images, _) in enumerate(train_loader):\n",
        "\n",
        "            batch_size = real_images.size(0)\n",
        "            real_images = scale_images(real_images)\n",
        "\n",
        "            # Train the discriminator on real and fake images\n",
        "            discriminator_optimizer.zero_grad()\n",
        "            \n",
        "            if train_on_gpu:\n",
        "                real_images = real_images.cuda()\n",
        "                \n",
        "            D_real = D(real_images)\n",
        "            d_real_loss = real_loss(D_real)      # Calculates log(D(x))\n",
        "\n",
        "            z = np.random.uniform(-1, 1, size=(batch_size, z_size))\n",
        "            z = torch.from_numpy(z).float()\n",
        "\n",
        "            if train_on_gpu:\n",
        "                z = z.cuda()\n",
        "                \n",
        "            fake_images = G(z)\n",
        "            \n",
        "            D_fake = D(fake_images)\n",
        "            d_fake_loss = fake_loss(D_fake)\n",
        "            \n",
        "            \n",
        "            d_loss = d_real_loss + d_fake_loss\n",
        "            d_loss.backward()\n",
        "            discriminator_optimizer.step()     \n",
        "\n",
        "            # 2. Train the generator with an adversarial loss\n",
        "            generator_optimizer.zero_grad()\n",
        "            \n",
        "            z = np.random.uniform(-1, 1, size=(batch_size, z_size))\n",
        "            z = torch.from_numpy(z).float()\n",
        "            \n",
        "            if train_on_gpu:\n",
        "                z = z.cuda()\n",
        "            \n",
        "            fake_images = G(z)\n",
        "            \n",
        "            D_fake = D(fake_images)\n",
        "            \n",
        "            g_loss = real_loss(D_fake)  # The Generator wishies to minimize the real_loss for it's fake output\n",
        "                                        # to trick the Discriminator\n",
        "        \n",
        "            g_loss.backward()\n",
        "            generator_optimizer.step()\n",
        "            \n",
        "            # Print some loss stats\n",
        "            if batch_i % print_every == 0:\n",
        "                # append discriminator loss and generator loss\n",
        "                losses.append((d_loss.item(), g_loss.item()))\n",
        "                # print discriminator and generator loss\n",
        "                print('Epoch [{:5d}/{:5d}] | d_loss: {:6.4f} | g_loss: {:6.4f}'.format(\n",
        "                        epoch+1, n_epochs, d_loss.item(), g_loss.item()))\n",
        "\n",
        "\n",
        "        ## AFTER EACH EPOCH##    \n",
        "        # this code assumes your generator is named G, feel free to change the name\n",
        "        # generate and save sample, fake images\n",
        "        G.eval() # for generating samples\n",
        "        samples_z = G(fixed_z)\n",
        "        samples.append(samples_z)\n",
        "        G.train() # back to training mode\n",
        "\n",
        "    # Save training generator samples\n",
        "    with open('train_samples.pkl', 'wb') as f:\n",
        "        pkl.dump(samples, f)\n",
        "    \n",
        "    # finally return losses\n",
        "    return losses"
      ],
      "metadata": {
        "id": "EExGFFIz09fz"
      },
      "execution_count": 20,
      "outputs": []
    },
    {
      "cell_type": "code",
      "source": [
        "n_epochs = 10\n",
        "losses = train(discriminator, generator, n_epochs=n_epochs, train_on_gpu = use_gpu)"
      ],
      "metadata": {
        "colab": {
          "base_uri": "https://localhost:8080/"
        },
        "id": "TzPNxqZo09c7",
        "outputId": "2bdbe16f-e50f-48ed-c2b9-84f61db00d2f"
      },
      "execution_count": 21,
      "outputs": [
        {
          "output_type": "stream",
          "name": "stdout",
          "text": [
            "Epoch [    1/   10] | d_loss: 4.0750 | g_loss: 2.3056\n",
            "Epoch [    1/   10] | d_loss: 0.0323 | g_loss: 9.5633\n",
            "Epoch [    1/   10] | d_loss: 0.0389 | g_loss: 11.8356\n",
            "Epoch [    1/   10] | d_loss: 0.0216 | g_loss: 10.1987\n",
            "Epoch [    1/   10] | d_loss: 0.0273 | g_loss: 10.6222\n",
            "Epoch [    1/   10] | d_loss: 0.0034 | g_loss: 12.2335\n",
            "Epoch [    1/   10] | d_loss: 0.0305 | g_loss: 11.8404\n",
            "Epoch [    1/   10] | d_loss: 0.0468 | g_loss: 13.0523\n",
            "Epoch [    1/   10] | d_loss: 0.0007 | g_loss: 10.5833\n",
            "Epoch [    1/   10] | d_loss: 0.0003 | g_loss: 11.6981\n",
            "Epoch [    1/   10] | d_loss: 0.0001 | g_loss: 14.7555\n",
            "Epoch [    1/   10] | d_loss: 0.0011 | g_loss: 12.7264\n",
            "Epoch [    1/   10] | d_loss: 0.0028 | g_loss: 11.4707\n",
            "Epoch [    1/   10] | d_loss: 0.0092 | g_loss: 13.0339\n",
            "Epoch [    1/   10] | d_loss: 0.0034 | g_loss: 11.0950\n",
            "Epoch [    1/   10] | d_loss: 0.0822 | g_loss: 12.9436\n",
            "Epoch [    1/   10] | d_loss: 0.0037 | g_loss: 8.8869\n",
            "Epoch [    1/   10] | d_loss: 0.0018 | g_loss: 10.2867\n",
            "Epoch [    1/   10] | d_loss: 0.0049 | g_loss: 13.4500\n",
            "Epoch [    1/   10] | d_loss: 0.0003 | g_loss: 13.0194\n",
            "Epoch [    1/   10] | d_loss: 0.0002 | g_loss: 13.0798\n",
            "Epoch [    1/   10] | d_loss: 0.0004 | g_loss: 13.6050\n",
            "Epoch [    1/   10] | d_loss: 0.0011 | g_loss: 17.3839\n",
            "Epoch [    1/   10] | d_loss: 0.0003 | g_loss: 12.6573\n",
            "Epoch [    1/   10] | d_loss: 0.0001 | g_loss: 12.1918\n",
            "Epoch [    1/   10] | d_loss: 0.0013 | g_loss: 9.5613\n",
            "Epoch [    1/   10] | d_loss: 0.0007 | g_loss: 15.1092\n",
            "Epoch [    1/   10] | d_loss: 0.0004 | g_loss: 9.5093\n",
            "Epoch [    1/   10] | d_loss: 0.0017 | g_loss: 8.6614\n",
            "Epoch [    1/   10] | d_loss: 0.4973 | g_loss: 3.1712\n",
            "Epoch [    1/   10] | d_loss: 0.0042 | g_loss: 12.9890\n",
            "Epoch [    1/   10] | d_loss: 0.0009 | g_loss: 11.7529\n",
            "Epoch [    1/   10] | d_loss: 0.0009 | g_loss: 12.6273\n",
            "Epoch [    1/   10] | d_loss: 0.0000 | g_loss: 12.6893\n",
            "Epoch [    1/   10] | d_loss: 0.0008 | g_loss: 14.2987\n",
            "Epoch [    1/   10] | d_loss: 0.0000 | g_loss: 16.5158\n",
            "Epoch [    1/   10] | d_loss: 0.0008 | g_loss: 11.3017\n",
            "Epoch [    1/   10] | d_loss: 0.0002 | g_loss: 11.3960\n",
            "Epoch [    2/   10] | d_loss: 0.0024 | g_loss: 13.3021\n",
            "Epoch [    2/   10] | d_loss: 0.0040 | g_loss: 12.6420\n",
            "Epoch [    2/   10] | d_loss: 0.0469 | g_loss: 11.1707\n",
            "Epoch [    2/   10] | d_loss: 0.0068 | g_loss: 9.8331\n",
            "Epoch [    2/   10] | d_loss: 0.0026 | g_loss: 11.5457\n",
            "Epoch [    2/   10] | d_loss: 0.0016 | g_loss: 12.0951\n",
            "Epoch [    2/   10] | d_loss: 0.0007 | g_loss: 11.1747\n",
            "Epoch [    2/   10] | d_loss: 0.0086 | g_loss: 12.7106\n",
            "Epoch [    2/   10] | d_loss: 0.0023 | g_loss: 11.6372\n",
            "Epoch [    2/   10] | d_loss: 0.0427 | g_loss: 10.5216\n",
            "Epoch [    2/   10] | d_loss: 0.0445 | g_loss: 6.4886\n",
            "Epoch [    2/   10] | d_loss: 0.1365 | g_loss: 6.6044\n",
            "Epoch [    2/   10] | d_loss: 0.0948 | g_loss: 7.3041\n",
            "Epoch [    2/   10] | d_loss: 0.0750 | g_loss: 8.3663\n",
            "Epoch [    2/   10] | d_loss: 0.1798 | g_loss: 5.8053\n",
            "Epoch [    2/   10] | d_loss: 0.3442 | g_loss: 8.9761\n",
            "Epoch [    2/   10] | d_loss: 0.0019 | g_loss: 7.8390\n",
            "Epoch [    2/   10] | d_loss: 0.0519 | g_loss: 5.2370\n",
            "Epoch [    2/   10] | d_loss: 0.1233 | g_loss: 6.3364\n",
            "Epoch [    2/   10] | d_loss: 0.0645 | g_loss: 5.3889\n",
            "Epoch [    2/   10] | d_loss: 0.0060 | g_loss: 7.6756\n",
            "Epoch [    2/   10] | d_loss: 0.5073 | g_loss: 7.6208\n",
            "Epoch [    2/   10] | d_loss: 0.1324 | g_loss: 5.3719\n",
            "Epoch [    2/   10] | d_loss: 0.0220 | g_loss: 6.3244\n",
            "Epoch [    2/   10] | d_loss: 0.0020 | g_loss: 8.7165\n",
            "Epoch [    2/   10] | d_loss: 0.0059 | g_loss: 11.0371\n",
            "Epoch [    2/   10] | d_loss: 0.0305 | g_loss: 8.2447\n",
            "Epoch [    2/   10] | d_loss: 0.0494 | g_loss: 7.6035\n",
            "Epoch [    2/   10] | d_loss: 0.0086 | g_loss: 11.0816\n",
            "Epoch [    2/   10] | d_loss: 0.0729 | g_loss: 7.7882\n",
            "Epoch [    2/   10] | d_loss: 0.0208 | g_loss: 8.6428\n",
            "Epoch [    2/   10] | d_loss: 0.0082 | g_loss: 8.5393\n",
            "Epoch [    2/   10] | d_loss: 0.0082 | g_loss: 8.0034\n",
            "Epoch [    2/   10] | d_loss: 0.0835 | g_loss: 7.5754\n",
            "Epoch [    2/   10] | d_loss: 0.1547 | g_loss: 4.9275\n",
            "Epoch [    2/   10] | d_loss: 0.0023 | g_loss: 9.7927\n",
            "Epoch [    2/   10] | d_loss: 0.2612 | g_loss: 7.6977\n",
            "Epoch [    2/   10] | d_loss: 0.0016 | g_loss: 9.6887\n",
            "Epoch [    3/   10] | d_loss: 0.0404 | g_loss: 11.0672\n",
            "Epoch [    3/   10] | d_loss: 0.0126 | g_loss: 7.3237\n",
            "Epoch [    3/   10] | d_loss: 0.0101 | g_loss: 5.4190\n",
            "Epoch [    3/   10] | d_loss: 0.0003 | g_loss: 10.3512\n",
            "Epoch [    3/   10] | d_loss: 0.0032 | g_loss: 9.3545\n",
            "Epoch [    3/   10] | d_loss: 0.0109 | g_loss: 7.6918\n",
            "Epoch [    3/   10] | d_loss: 0.0070 | g_loss: 11.3614\n",
            "Epoch [    3/   10] | d_loss: 0.0024 | g_loss: 5.3405\n",
            "Epoch [    3/   10] | d_loss: 0.0077 | g_loss: 8.1689\n",
            "Epoch [    3/   10] | d_loss: 0.0483 | g_loss: 8.8555\n",
            "Epoch [    3/   10] | d_loss: 0.0090 | g_loss: 9.5888\n",
            "Epoch [    3/   10] | d_loss: 0.0143 | g_loss: 8.9920\n",
            "Epoch [    3/   10] | d_loss: 0.1177 | g_loss: 8.0256\n",
            "Epoch [    3/   10] | d_loss: 0.0400 | g_loss: 8.5868\n",
            "Epoch [    3/   10] | d_loss: 0.0047 | g_loss: 11.9895\n",
            "Epoch [    3/   10] | d_loss: 0.0160 | g_loss: 11.2403\n",
            "Epoch [    3/   10] | d_loss: 0.0021 | g_loss: 9.4343\n",
            "Epoch [    3/   10] | d_loss: 0.0740 | g_loss: 9.3587\n",
            "Epoch [    3/   10] | d_loss: 0.0023 | g_loss: 10.9147\n",
            "Epoch [    3/   10] | d_loss: 0.0142 | g_loss: 6.7914\n",
            "Epoch [    3/   10] | d_loss: 0.0005 | g_loss: 8.8920\n",
            "Epoch [    3/   10] | d_loss: 0.0014 | g_loss: 7.6370\n",
            "Epoch [    3/   10] | d_loss: 0.0017 | g_loss: 7.5657\n",
            "Epoch [    3/   10] | d_loss: 0.0025 | g_loss: 11.4368\n",
            "Epoch [    3/   10] | d_loss: 0.0706 | g_loss: 8.3037\n",
            "Epoch [    3/   10] | d_loss: 0.0790 | g_loss: 9.1427\n",
            "Epoch [    3/   10] | d_loss: 0.0008 | g_loss: 6.6827\n",
            "Epoch [    3/   10] | d_loss: 0.0179 | g_loss: 11.5467\n",
            "Epoch [    3/   10] | d_loss: 0.0338 | g_loss: 10.0382\n",
            "Epoch [    3/   10] | d_loss: 0.0226 | g_loss: 13.0882\n",
            "Epoch [    3/   10] | d_loss: 0.0213 | g_loss: 6.4207\n",
            "Epoch [    3/   10] | d_loss: 0.0146 | g_loss: 7.8382\n",
            "Epoch [    3/   10] | d_loss: 0.1748 | g_loss: 3.9228\n",
            "Epoch [    3/   10] | d_loss: 0.0116 | g_loss: 8.2843\n",
            "Epoch [    3/   10] | d_loss: 0.0178 | g_loss: 8.9863\n",
            "Epoch [    3/   10] | d_loss: 0.0009 | g_loss: 5.7542\n",
            "Epoch [    3/   10] | d_loss: 0.0195 | g_loss: 6.6133\n",
            "Epoch [    3/   10] | d_loss: 0.0081 | g_loss: 5.5616\n",
            "Epoch [    4/   10] | d_loss: 0.0584 | g_loss: 2.5577\n",
            "Epoch [    4/   10] | d_loss: 0.0218 | g_loss: 8.0035\n",
            "Epoch [    4/   10] | d_loss: 0.0213 | g_loss: 11.3479\n",
            "Epoch [    4/   10] | d_loss: 0.0136 | g_loss: 7.2561\n",
            "Epoch [    4/   10] | d_loss: 0.0032 | g_loss: 10.7681\n",
            "Epoch [    4/   10] | d_loss: 0.0032 | g_loss: 7.6329\n",
            "Epoch [    4/   10] | d_loss: 0.0014 | g_loss: 8.7886\n",
            "Epoch [    4/   10] | d_loss: 0.1869 | g_loss: 7.3882\n",
            "Epoch [    4/   10] | d_loss: 0.0626 | g_loss: 7.2257\n",
            "Epoch [    4/   10] | d_loss: 0.0395 | g_loss: 9.5876\n",
            "Epoch [    4/   10] | d_loss: 0.0241 | g_loss: 5.0619\n",
            "Epoch [    4/   10] | d_loss: 0.0101 | g_loss: 9.0664\n",
            "Epoch [    4/   10] | d_loss: 0.0253 | g_loss: 9.4127\n",
            "Epoch [    4/   10] | d_loss: 0.0272 | g_loss: 8.1159\n",
            "Epoch [    4/   10] | d_loss: 0.6971 | g_loss: 2.4343\n",
            "Epoch [    4/   10] | d_loss: 0.0041 | g_loss: 9.3440\n",
            "Epoch [    4/   10] | d_loss: 0.0087 | g_loss: 8.7944\n",
            "Epoch [    4/   10] | d_loss: 0.0322 | g_loss: 6.0259\n",
            "Epoch [    4/   10] | d_loss: 1.3233 | g_loss: 5.7454\n",
            "Epoch [    4/   10] | d_loss: 0.0027 | g_loss: 6.6453\n",
            "Epoch [    4/   10] | d_loss: 0.0106 | g_loss: 7.3775\n",
            "Epoch [    4/   10] | d_loss: 0.0117 | g_loss: 8.9326\n",
            "Epoch [    4/   10] | d_loss: 0.0196 | g_loss: 8.0989\n",
            "Epoch [    4/   10] | d_loss: 0.0292 | g_loss: 7.1622\n",
            "Epoch [    4/   10] | d_loss: 0.0251 | g_loss: 8.7003\n",
            "Epoch [    4/   10] | d_loss: 0.0434 | g_loss: 4.7589\n",
            "Epoch [    4/   10] | d_loss: 0.0034 | g_loss: 5.5848\n",
            "Epoch [    4/   10] | d_loss: 0.0110 | g_loss: 6.4317\n",
            "Epoch [    4/   10] | d_loss: 0.0417 | g_loss: 5.9105\n",
            "Epoch [    4/   10] | d_loss: 0.2383 | g_loss: 1.9003\n",
            "Epoch [    4/   10] | d_loss: 0.0019 | g_loss: 7.7592\n",
            "Epoch [    4/   10] | d_loss: 0.0252 | g_loss: 9.6022\n",
            "Epoch [    4/   10] | d_loss: 0.1224 | g_loss: 4.9673\n",
            "Epoch [    4/   10] | d_loss: 0.0071 | g_loss: 6.9094\n",
            "Epoch [    4/   10] | d_loss: 0.0026 | g_loss: 10.5333\n",
            "Epoch [    4/   10] | d_loss: 0.0024 | g_loss: 8.0736\n",
            "Epoch [    4/   10] | d_loss: 0.0016 | g_loss: 11.8877\n",
            "Epoch [    4/   10] | d_loss: 0.0287 | g_loss: 7.3531\n",
            "Epoch [    5/   10] | d_loss: 0.1189 | g_loss: 7.3148\n",
            "Epoch [    5/   10] | d_loss: 0.1133 | g_loss: 8.1171\n",
            "Epoch [    5/   10] | d_loss: 0.0095 | g_loss: 5.6838\n",
            "Epoch [    5/   10] | d_loss: 0.0216 | g_loss: 7.0159\n",
            "Epoch [    5/   10] | d_loss: 0.0100 | g_loss: 7.4408\n",
            "Epoch [    5/   10] | d_loss: 0.0121 | g_loss: 5.7050\n",
            "Epoch [    5/   10] | d_loss: 0.0397 | g_loss: 7.0487\n",
            "Epoch [    5/   10] | d_loss: 0.0064 | g_loss: 7.0909\n",
            "Epoch [    5/   10] | d_loss: 0.0821 | g_loss: 3.6708\n",
            "Epoch [    5/   10] | d_loss: 0.0110 | g_loss: 8.7245\n",
            "Epoch [    5/   10] | d_loss: 0.0131 | g_loss: 3.7742\n",
            "Epoch [    5/   10] | d_loss: 0.0172 | g_loss: 7.4754\n",
            "Epoch [    5/   10] | d_loss: 0.0599 | g_loss: 6.9424\n",
            "Epoch [    5/   10] | d_loss: 0.0563 | g_loss: 7.7466\n",
            "Epoch [    5/   10] | d_loss: 0.1196 | g_loss: 9.9828\n",
            "Epoch [    5/   10] | d_loss: 0.0720 | g_loss: 10.5611\n",
            "Epoch [    5/   10] | d_loss: 0.0024 | g_loss: 6.8682\n",
            "Epoch [    5/   10] | d_loss: 0.0575 | g_loss: 6.2493\n",
            "Epoch [    5/   10] | d_loss: 0.0046 | g_loss: 6.5381\n",
            "Epoch [    5/   10] | d_loss: 0.0555 | g_loss: 6.7104\n",
            "Epoch [    5/   10] | d_loss: 0.0250 | g_loss: 5.4144\n",
            "Epoch [    5/   10] | d_loss: 0.0346 | g_loss: 6.4496\n",
            "Epoch [    5/   10] | d_loss: 0.0140 | g_loss: 7.6960\n",
            "Epoch [    5/   10] | d_loss: 0.0232 | g_loss: 3.8848\n",
            "Epoch [    5/   10] | d_loss: 0.0012 | g_loss: 9.8868\n",
            "Epoch [    5/   10] | d_loss: 0.1769 | g_loss: 7.1426\n",
            "Epoch [    5/   10] | d_loss: 0.0275 | g_loss: 7.0814\n",
            "Epoch [    5/   10] | d_loss: 0.2015 | g_loss: 6.1522\n",
            "Epoch [    5/   10] | d_loss: 0.0387 | g_loss: 9.0490\n",
            "Epoch [    5/   10] | d_loss: 0.4020 | g_loss: 9.7356\n",
            "Epoch [    5/   10] | d_loss: 0.0135 | g_loss: 6.8578\n",
            "Epoch [    5/   10] | d_loss: 0.0129 | g_loss: 3.4239\n",
            "Epoch [    5/   10] | d_loss: 0.1136 | g_loss: 7.4607\n",
            "Epoch [    5/   10] | d_loss: 0.1856 | g_loss: 7.0849\n",
            "Epoch [    5/   10] | d_loss: 0.0028 | g_loss: 7.7962\n",
            "Epoch [    5/   10] | d_loss: 0.1024 | g_loss: 8.6037\n",
            "Epoch [    5/   10] | d_loss: 0.0290 | g_loss: 4.7658\n",
            "Epoch [    5/   10] | d_loss: 0.0138 | g_loss: 5.5544\n",
            "Epoch [    6/   10] | d_loss: 0.0359 | g_loss: 3.5353\n",
            "Epoch [    6/   10] | d_loss: 0.2493 | g_loss: 7.3215\n",
            "Epoch [    6/   10] | d_loss: 0.0055 | g_loss: 6.5870\n",
            "Epoch [    6/   10] | d_loss: 0.0276 | g_loss: 4.9364\n",
            "Epoch [    6/   10] | d_loss: 0.0800 | g_loss: 6.4238\n",
            "Epoch [    6/   10] | d_loss: 0.0032 | g_loss: 7.1144\n",
            "Epoch [    6/   10] | d_loss: 0.3055 | g_loss: 8.6569\n",
            "Epoch [    6/   10] | d_loss: 0.0193 | g_loss: 9.0496\n",
            "Epoch [    6/   10] | d_loss: 0.0067 | g_loss: 7.4124\n",
            "Epoch [    6/   10] | d_loss: 0.2851 | g_loss: 3.3976\n",
            "Epoch [    6/   10] | d_loss: 0.0314 | g_loss: 4.6223\n",
            "Epoch [    6/   10] | d_loss: 0.0525 | g_loss: 6.3230\n",
            "Epoch [    6/   10] | d_loss: 0.0818 | g_loss: 7.1585\n",
            "Epoch [    6/   10] | d_loss: 0.0293 | g_loss: 2.8136\n",
            "Epoch [    6/   10] | d_loss: 0.2006 | g_loss: 5.3688\n",
            "Epoch [    6/   10] | d_loss: 0.0048 | g_loss: 3.4776\n",
            "Epoch [    6/   10] | d_loss: 0.1732 | g_loss: 2.0211\n",
            "Epoch [    6/   10] | d_loss: 0.0353 | g_loss: 7.1399\n",
            "Epoch [    6/   10] | d_loss: 0.0272 | g_loss: 4.4652\n",
            "Epoch [    6/   10] | d_loss: 0.0277 | g_loss: 5.7749\n",
            "Epoch [    6/   10] | d_loss: 0.0329 | g_loss: 8.7795\n",
            "Epoch [    6/   10] | d_loss: 0.3428 | g_loss: 4.5127\n",
            "Epoch [    6/   10] | d_loss: 0.5998 | g_loss: 4.8623\n",
            "Epoch [    6/   10] | d_loss: 0.0044 | g_loss: 4.5487\n",
            "Epoch [    6/   10] | d_loss: 0.0589 | g_loss: 9.5245\n",
            "Epoch [    6/   10] | d_loss: 0.1744 | g_loss: 6.3193\n",
            "Epoch [    6/   10] | d_loss: 0.0734 | g_loss: 7.3021\n",
            "Epoch [    6/   10] | d_loss: 0.2377 | g_loss: 4.1635\n",
            "Epoch [    6/   10] | d_loss: 0.0158 | g_loss: 6.4360\n",
            "Epoch [    6/   10] | d_loss: 0.0169 | g_loss: 8.5839\n",
            "Epoch [    6/   10] | d_loss: 0.0267 | g_loss: 8.2353\n",
            "Epoch [    6/   10] | d_loss: 0.0079 | g_loss: 5.9496\n",
            "Epoch [    6/   10] | d_loss: 0.0210 | g_loss: 5.8006\n",
            "Epoch [    6/   10] | d_loss: 0.0939 | g_loss: 9.1969\n",
            "Epoch [    6/   10] | d_loss: 0.0609 | g_loss: 4.4432\n",
            "Epoch [    6/   10] | d_loss: 0.0170 | g_loss: 7.1049\n",
            "Epoch [    6/   10] | d_loss: 0.0482 | g_loss: 3.8166\n",
            "Epoch [    6/   10] | d_loss: 0.0631 | g_loss: 7.0929\n",
            "Epoch [    7/   10] | d_loss: 0.0929 | g_loss: 9.4095\n",
            "Epoch [    7/   10] | d_loss: 0.0148 | g_loss: 5.6626\n",
            "Epoch [    7/   10] | d_loss: 0.0345 | g_loss: 9.2708\n",
            "Epoch [    7/   10] | d_loss: 0.0702 | g_loss: 5.0426\n",
            "Epoch [    7/   10] | d_loss: 0.0513 | g_loss: 2.4982\n",
            "Epoch [    7/   10] | d_loss: 0.0631 | g_loss: 7.8889\n",
            "Epoch [    7/   10] | d_loss: 0.0687 | g_loss: 7.1478\n",
            "Epoch [    7/   10] | d_loss: 0.0595 | g_loss: 9.3558\n",
            "Epoch [    7/   10] | d_loss: 0.0053 | g_loss: 6.8809\n",
            "Epoch [    7/   10] | d_loss: 0.1795 | g_loss: 6.7026\n",
            "Epoch [    7/   10] | d_loss: 0.0491 | g_loss: 8.5145\n",
            "Epoch [    7/   10] | d_loss: 0.0579 | g_loss: 3.5882\n",
            "Epoch [    7/   10] | d_loss: 0.0145 | g_loss: 9.5100\n",
            "Epoch [    7/   10] | d_loss: 0.0076 | g_loss: 6.8643\n",
            "Epoch [    7/   10] | d_loss: 0.0156 | g_loss: 4.1338\n",
            "Epoch [    7/   10] | d_loss: 0.0921 | g_loss: 5.0090\n",
            "Epoch [    7/   10] | d_loss: 0.1439 | g_loss: 8.9202\n",
            "Epoch [    7/   10] | d_loss: 0.3973 | g_loss: 8.0592\n",
            "Epoch [    7/   10] | d_loss: 0.0151 | g_loss: 6.5812\n",
            "Epoch [    7/   10] | d_loss: 0.0124 | g_loss: 5.9382\n",
            "Epoch [    7/   10] | d_loss: 0.0109 | g_loss: 6.1676\n",
            "Epoch [    7/   10] | d_loss: 0.1182 | g_loss: 6.9183\n",
            "Epoch [    7/   10] | d_loss: 0.0286 | g_loss: 5.9902\n",
            "Epoch [    7/   10] | d_loss: 0.3197 | g_loss: 4.4459\n",
            "Epoch [    7/   10] | d_loss: 0.0208 | g_loss: 2.7848\n",
            "Epoch [    7/   10] | d_loss: 0.0210 | g_loss: 3.7497\n",
            "Epoch [    7/   10] | d_loss: 0.1059 | g_loss: 6.0714\n",
            "Epoch [    7/   10] | d_loss: 0.0232 | g_loss: 6.8437\n",
            "Epoch [    7/   10] | d_loss: 0.0978 | g_loss: 7.1010\n",
            "Epoch [    7/   10] | d_loss: 0.0642 | g_loss: 8.0395\n",
            "Epoch [    7/   10] | d_loss: 0.0127 | g_loss: 5.2942\n",
            "Epoch [    7/   10] | d_loss: 0.0187 | g_loss: 7.4153\n",
            "Epoch [    7/   10] | d_loss: 0.2701 | g_loss: 1.3582\n",
            "Epoch [    7/   10] | d_loss: 0.0909 | g_loss: 7.4496\n",
            "Epoch [    7/   10] | d_loss: 0.0049 | g_loss: 6.0627\n",
            "Epoch [    7/   10] | d_loss: 0.0115 | g_loss: 5.7199\n",
            "Epoch [    7/   10] | d_loss: 0.0067 | g_loss: 10.7154\n",
            "Epoch [    7/   10] | d_loss: 0.0127 | g_loss: 5.9238\n",
            "Epoch [    8/   10] | d_loss: 0.0256 | g_loss: 4.7039\n",
            "Epoch [    8/   10] | d_loss: 0.1723 | g_loss: 10.3667\n",
            "Epoch [    8/   10] | d_loss: 0.0077 | g_loss: 9.0193\n",
            "Epoch [    8/   10] | d_loss: 0.1643 | g_loss: 9.2176\n",
            "Epoch [    8/   10] | d_loss: 0.0056 | g_loss: 6.0708\n",
            "Epoch [    8/   10] | d_loss: 0.0637 | g_loss: 7.7384\n",
            "Epoch [    8/   10] | d_loss: 0.0770 | g_loss: 7.3021\n",
            "Epoch [    8/   10] | d_loss: 0.0014 | g_loss: 8.5169\n",
            "Epoch [    8/   10] | d_loss: 0.0073 | g_loss: 4.2190\n",
            "Epoch [    8/   10] | d_loss: 0.0697 | g_loss: 6.2384\n",
            "Epoch [    8/   10] | d_loss: 0.0180 | g_loss: 8.2260\n",
            "Epoch [    8/   10] | d_loss: 0.0350 | g_loss: 0.6660\n",
            "Epoch [    8/   10] | d_loss: 0.2407 | g_loss: 8.6571\n",
            "Epoch [    8/   10] | d_loss: 0.0226 | g_loss: 6.5124\n",
            "Epoch [    8/   10] | d_loss: 0.0772 | g_loss: 9.6173\n",
            "Epoch [    8/   10] | d_loss: 0.0621 | g_loss: 8.8079\n",
            "Epoch [    8/   10] | d_loss: 0.0067 | g_loss: 7.3590\n",
            "Epoch [    8/   10] | d_loss: 0.0046 | g_loss: 6.6794\n",
            "Epoch [    8/   10] | d_loss: 0.0041 | g_loss: 6.2304\n",
            "Epoch [    8/   10] | d_loss: 0.0461 | g_loss: 4.6552\n",
            "Epoch [    8/   10] | d_loss: 0.0105 | g_loss: 5.4568\n",
            "Epoch [    8/   10] | d_loss: 0.0923 | g_loss: 6.6359\n",
            "Epoch [    8/   10] | d_loss: 0.0492 | g_loss: 6.3854\n",
            "Epoch [    8/   10] | d_loss: 0.1127 | g_loss: 4.1278\n",
            "Epoch [    8/   10] | d_loss: 0.0322 | g_loss: 5.3296\n",
            "Epoch [    8/   10] | d_loss: 0.0089 | g_loss: 5.6575\n",
            "Epoch [    8/   10] | d_loss: 0.1204 | g_loss: 6.1775\n",
            "Epoch [    8/   10] | d_loss: 0.3283 | g_loss: 4.8399\n",
            "Epoch [    8/   10] | d_loss: 0.0250 | g_loss: 6.1277\n",
            "Epoch [    8/   10] | d_loss: 0.0497 | g_loss: 6.1613\n",
            "Epoch [    8/   10] | d_loss: 0.0029 | g_loss: 6.5318\n",
            "Epoch [    8/   10] | d_loss: 0.0047 | g_loss: 6.5999\n",
            "Epoch [    8/   10] | d_loss: 0.0110 | g_loss: 8.0891\n",
            "Epoch [    8/   10] | d_loss: 0.0238 | g_loss: 5.2470\n",
            "Epoch [    8/   10] | d_loss: 0.0118 | g_loss: 9.2819\n",
            "Epoch [    8/   10] | d_loss: 0.1624 | g_loss: 5.2156\n",
            "Epoch [    8/   10] | d_loss: 0.0195 | g_loss: 8.8338\n",
            "Epoch [    8/   10] | d_loss: 0.0710 | g_loss: 6.4993\n",
            "Epoch [    9/   10] | d_loss: 0.1310 | g_loss: 6.0516\n",
            "Epoch [    9/   10] | d_loss: 0.0087 | g_loss: 6.4846\n",
            "Epoch [    9/   10] | d_loss: 0.0249 | g_loss: 8.2442\n",
            "Epoch [    9/   10] | d_loss: 0.4059 | g_loss: 4.1834\n",
            "Epoch [    9/   10] | d_loss: 0.0485 | g_loss: 4.2554\n",
            "Epoch [    9/   10] | d_loss: 0.0327 | g_loss: 6.8806\n",
            "Epoch [    9/   10] | d_loss: 0.0030 | g_loss: 6.9680\n",
            "Epoch [    9/   10] | d_loss: 0.0209 | g_loss: 8.3193\n",
            "Epoch [    9/   10] | d_loss: 0.0108 | g_loss: 7.8851\n",
            "Epoch [    9/   10] | d_loss: 0.0177 | g_loss: 7.2514\n",
            "Epoch [    9/   10] | d_loss: 0.0381 | g_loss: 6.1282\n",
            "Epoch [    9/   10] | d_loss: 0.0019 | g_loss: 8.1080\n",
            "Epoch [    9/   10] | d_loss: 0.0199 | g_loss: 8.6591\n",
            "Epoch [    9/   10] | d_loss: 0.0715 | g_loss: 8.7516\n",
            "Epoch [    9/   10] | d_loss: 0.0194 | g_loss: 7.6302\n",
            "Epoch [    9/   10] | d_loss: 0.0042 | g_loss: 9.0393\n",
            "Epoch [    9/   10] | d_loss: 0.0904 | g_loss: 7.0754\n",
            "Epoch [    9/   10] | d_loss: 0.0073 | g_loss: 6.9159\n",
            "Epoch [    9/   10] | d_loss: 0.0092 | g_loss: 8.6882\n",
            "Epoch [    9/   10] | d_loss: 0.2774 | g_loss: 9.3147\n",
            "Epoch [    9/   10] | d_loss: 0.0230 | g_loss: 4.5844\n",
            "Epoch [    9/   10] | d_loss: 0.0085 | g_loss: 8.1091\n",
            "Epoch [    9/   10] | d_loss: 0.0067 | g_loss: 4.1532\n",
            "Epoch [    9/   10] | d_loss: 0.0261 | g_loss: 5.3324\n",
            "Epoch [    9/   10] | d_loss: 0.0820 | g_loss: 7.3623\n",
            "Epoch [    9/   10] | d_loss: 0.4584 | g_loss: 5.8134\n",
            "Epoch [    9/   10] | d_loss: 0.0014 | g_loss: 6.1205\n",
            "Epoch [    9/   10] | d_loss: 0.0218 | g_loss: 8.5415\n",
            "Epoch [    9/   10] | d_loss: 0.0261 | g_loss: 6.7343\n",
            "Epoch [    9/   10] | d_loss: 0.0222 | g_loss: 5.1950\n",
            "Epoch [    9/   10] | d_loss: 0.0146 | g_loss: 6.3710\n",
            "Epoch [    9/   10] | d_loss: 0.0371 | g_loss: 7.7449\n",
            "Epoch [    9/   10] | d_loss: 0.0587 | g_loss: 1.4110\n",
            "Epoch [    9/   10] | d_loss: 0.0426 | g_loss: 5.8640\n",
            "Epoch [    9/   10] | d_loss: 0.0786 | g_loss: 5.9448\n",
            "Epoch [    9/   10] | d_loss: 0.0470 | g_loss: 6.7317\n",
            "Epoch [    9/   10] | d_loss: 0.8244 | g_loss: 7.8261\n",
            "Epoch [    9/   10] | d_loss: 0.0046 | g_loss: 7.5107\n",
            "Epoch [   10/   10] | d_loss: 0.0251 | g_loss: 7.3426\n",
            "Epoch [   10/   10] | d_loss: 0.0867 | g_loss: 5.5322\n",
            "Epoch [   10/   10] | d_loss: 0.0171 | g_loss: 8.0642\n",
            "Epoch [   10/   10] | d_loss: 0.0038 | g_loss: 7.1418\n",
            "Epoch [   10/   10] | d_loss: 0.0067 | g_loss: 5.4821\n",
            "Epoch [   10/   10] | d_loss: 0.0911 | g_loss: 3.7125\n",
            "Epoch [   10/   10] | d_loss: 0.0068 | g_loss: 7.9595\n",
            "Epoch [   10/   10] | d_loss: 0.0149 | g_loss: 7.1080\n",
            "Epoch [   10/   10] | d_loss: 0.0723 | g_loss: 5.6721\n",
            "Epoch [   10/   10] | d_loss: 0.0474 | g_loss: 5.2471\n",
            "Epoch [   10/   10] | d_loss: 0.0045 | g_loss: 6.8187\n",
            "Epoch [   10/   10] | d_loss: 0.0259 | g_loss: 7.1050\n",
            "Epoch [   10/   10] | d_loss: 0.0076 | g_loss: 6.7801\n",
            "Epoch [   10/   10] | d_loss: 0.0422 | g_loss: 5.5776\n",
            "Epoch [   10/   10] | d_loss: 0.0078 | g_loss: 8.3835\n",
            "Epoch [   10/   10] | d_loss: 0.0072 | g_loss: 6.5675\n",
            "Epoch [   10/   10] | d_loss: 0.0116 | g_loss: 5.2485\n",
            "Epoch [   10/   10] | d_loss: 0.0234 | g_loss: 7.4167\n",
            "Epoch [   10/   10] | d_loss: 0.0852 | g_loss: 3.9483\n",
            "Epoch [   10/   10] | d_loss: 0.0129 | g_loss: 4.9196\n",
            "Epoch [   10/   10] | d_loss: 0.0457 | g_loss: 7.1853\n",
            "Epoch [   10/   10] | d_loss: 0.2458 | g_loss: 6.8823\n",
            "Epoch [   10/   10] | d_loss: 0.0215 | g_loss: 6.5994\n",
            "Epoch [   10/   10] | d_loss: 0.1656 | g_loss: 2.3902\n",
            "Epoch [   10/   10] | d_loss: 0.0036 | g_loss: 6.4260\n",
            "Epoch [   10/   10] | d_loss: 0.0025 | g_loss: 7.7129\n",
            "Epoch [   10/   10] | d_loss: 0.0302 | g_loss: 2.8204\n",
            "Epoch [   10/   10] | d_loss: 0.0063 | g_loss: 6.2481\n",
            "Epoch [   10/   10] | d_loss: 0.1221 | g_loss: 7.0007\n",
            "Epoch [   10/   10] | d_loss: 0.0226 | g_loss: 5.5024\n",
            "Epoch [   10/   10] | d_loss: 0.0093 | g_loss: 4.8237\n",
            "Epoch [   10/   10] | d_loss: 0.0387 | g_loss: 4.3346\n",
            "Epoch [   10/   10] | d_loss: 0.1461 | g_loss: 10.1792\n",
            "Epoch [   10/   10] | d_loss: 0.0159 | g_loss: 6.0993\n",
            "Epoch [   10/   10] | d_loss: 0.0676 | g_loss: 2.1009\n",
            "Epoch [   10/   10] | d_loss: 0.0050 | g_loss: 7.6420\n",
            "Epoch [   10/   10] | d_loss: 0.2799 | g_loss: 7.5241\n",
            "Epoch [   10/   10] | d_loss: 0.0518 | g_loss: 7.3591\n"
          ]
        }
      ]
    },
    {
      "cell_type": "markdown",
      "source": [
        "## Training loss"
      ],
      "metadata": {
        "id": "xc9ViI0CgNqv"
      }
    },
    {
      "cell_type": "code",
      "source": [
        "fig, ax = plt.subplots()\n",
        "losses = np.array(losses)\n",
        "plt.plot(losses.T[0], label='Discriminator', alpha=0.8)\n",
        "plt.plot(losses.T[1], label='Generator', alpha=0.8)\n",
        "plt.title(\"Training Losses\")\n",
        "plt.legend()"
      ],
      "metadata": {
        "id": "njT7vHB509aO",
        "colab": {
          "base_uri": "https://localhost:8080/",
          "height": 298
        },
        "outputId": "cb8c1c9b-688c-44e1-945e-2b99050404b0"
      },
      "execution_count": 22,
      "outputs": [
        {
          "output_type": "execute_result",
          "data": {
            "text/plain": [
              "<matplotlib.legend.Legend at 0x7f11fdbf8490>"
            ]
          },
          "metadata": {},
          "execution_count": 22
        },
        {
          "output_type": "display_data",
          "data": {
            "text/plain": [
              "<Figure size 432x288 with 1 Axes>"
            ],
            "image/png": "[encoded data removed]"
          },
          "metadata": {
            "needs_background": "light"
          }
        }
      ]
    },
    {
      "cell_type": "markdown",
      "source": [
        "# Visualize the generated images"
      ],
      "metadata": {
        "id": "ByQyXqLlgV6k"
      }
    },
    {
      "cell_type": "code",
      "source": [
        "def view_samples(epoch,samples):\n",
        "    plt.figure(figsize=(12, 5))\n",
        "    batch=samples[epoch]\n",
        "    for i in range(10):\n",
        "        image = batch[i].detach().cpu()\n",
        "        plt.subplot(2, 5, i + 1)\n",
        "        plt.imshow(image.squeeze().numpy(),cmap=\"gray\")\n",
        "        plt.axis('off')"
      ],
      "metadata": {
        "id": "-TJXiFY-91EZ"
      },
      "execution_count": 43,
      "outputs": []
    },
    {
      "cell_type": "code",
      "source": [
        "with open('train_samples.pkl', 'rb') as f:\n",
        "    samples = pkl.load(f)"
      ],
      "metadata": {
        "id": "ilMs64rw09VW"
      },
      "execution_count": 44,
      "outputs": []
    },
    {
      "cell_type": "code",
      "source": [
        "_ = view_samples(-1, samples)"
      ],
      "metadata": {
        "id": "mHz0wEhS09TM",
        "colab": {
          "base_uri": "https://localhost:8080/",
          "height": 295
        },
        "outputId": "2850b818-a3ca-4012-cbc4-bc914a94d909"
      },
      "execution_count": 45,
      "outputs": [
        {
          "output_type": "display_data",
          "data": {
            "text/plain": [
              "<Figure size 864x360 with 10 Axes>"
            ],
            "image/png": "[encoded data removed]"
          },
          "metadata": {
            "needs_background": "light"
          }
        }
      ]
    },
    {
      "cell_type": "code",
      "source": [
        "_ = view_samples(1, samples)"
      ],
      "metadata": {
        "id": "mzjSxbfr09Q4",
        "colab": {
          "base_uri": "https://localhost:8080/",
          "height": 295
        },
        "outputId": "f62f14ba-6993-420b-a7a7-060d667f249e"
      },
      "execution_count": 46,
      "outputs": [
        {
          "output_type": "display_data",
          "data": {
            "text/plain": [
              "<Figure size 864x360 with 10 Axes>"
            ],
            "image/png": "[encoded data removed]"
          },
          "metadata": {
            "needs_background": "light"
          }
        }
      ]
    },
    {
      "cell_type": "code",
      "source": [
        "_ = view_samples(8, samples)"
      ],
      "metadata": {
        "id": "PGCV7xck09Nu",
        "colab": {
          "base_uri": "https://localhost:8080/",
          "height": 295
        },
        "outputId": "f1ae4521-7581-40cc-dcf9-6bc022a07809"
      },
      "execution_count": 47,
      "outputs": [
        {
          "output_type": "display_data",
          "data": {
            "text/plain": [
              "<Figure size 864x360 with 10 Axes>"
            ],
            "image/png": "[encoded data removed]"
          },
          "metadata": {
            "needs_background": "light"
          }
        }
      ]
    },
    {
      "cell_type": "code",
      "source": [
        "_ = view_samples(5, samples)"
      ],
      "metadata": {
        "id": "6ZeNzYHx09JP",
        "colab": {
          "base_uri": "https://localhost:8080/",
          "height": 295
        },
        "outputId": "c74aabbc-4004-4b44-ce1e-24e21e93391e"
      },
      "execution_count": 48,
      "outputs": [
        {
          "output_type": "display_data",
          "data": {
            "text/plain": [
              "<Figure size 864x360 with 10 Axes>"
            ],
            "image/png": "[encoded data removed]"
          },
          "metadata": {
            "needs_background": "light"
          }
        }
      ]
    },
    {
      "cell_type": "code",
      "source": [
        "_ = view_samples(0, samples)"
      ],
      "metadata": {
        "id": "cjdZNwlA09Eb",
        "colab": {
          "base_uri": "https://localhost:8080/",
          "height": 295
        },
        "outputId": "4d70e2b5-263b-4ff8-a924-4c3418c1c20a"
      },
      "execution_count": 49,
      "outputs": [
        {
          "output_type": "display_data",
          "data": {
            "text/plain": [
              "<Figure size 864x360 with 10 Axes>"
            ],
            "image/png": "[encoded data removed]"
          },
          "metadata": {
            "needs_background": "light"
          }
        }
      ]
    }
  ]
}